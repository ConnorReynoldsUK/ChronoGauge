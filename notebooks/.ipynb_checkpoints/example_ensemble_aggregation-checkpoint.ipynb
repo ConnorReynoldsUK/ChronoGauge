{
 "cells": [
  {
   "cell_type": "markdown",
   "id": "24da0946-bd10-4151-9b64-89beb5c8b891",
   "metadata": {},
   "source": [
    "# Ensemble - aggregation of multiple subpredictor estimates\n",
    "This notebook will demonstrate how to commbine the circadian time (CT) estimates made across multiple subpredictors that form part of the bagging-like ensemble."
   ]
  },
  {
   "cell_type": "code",
   "execution_count": 1,
   "id": "bba45870-edaa-4f8b-ad0a-842665609584",
   "metadata": {},
   "outputs": [],
   "source": [
    "import pandas as pd\n",
    "import numpy as np\n",
    "import math\n",
    "import matplotlib.pyplot as plt"
   ]
  },
  {
   "cell_type": "markdown",
   "id": "8213ef7f-6591-40d9-a27b-3ff3e9bf08e4",
   "metadata": {},
   "source": [
    "## Load outputs\n",
    "As an example, we will load the CT RNA-seq test data predictions from 10 subpredictors as shown in `example_test_pretrained.ipynb` where rows correspond with each sample and columns correspond with each subpredictor"
   ]
  },
  {
   "cell_type": "code",
   "execution_count": 2,
   "id": "f4162daa-3eac-4f2d-8464-6d3c37f4f4b3",
   "metadata": {},
   "outputs": [
    {
     "data": {
      "text/html": [
       "<div>\n",
       "<style scoped>\n",
       "    .dataframe tbody tr th:only-of-type {\n",
       "        vertical-align: middle;\n",
       "    }\n",
       "\n",
       "    .dataframe tbody tr th {\n",
       "        vertical-align: top;\n",
       "    }\n",
       "\n",
       "    .dataframe thead th {\n",
       "        text-align: right;\n",
       "    }\n",
       "</style>\n",
       "<table border=\"1\" class=\"dataframe\">\n",
       "  <thead>\n",
       "    <tr style=\"text-align: right;\">\n",
       "      <th></th>\n",
       "      <th>0</th>\n",
       "      <th>1</th>\n",
       "      <th>2</th>\n",
       "      <th>3</th>\n",
       "      <th>4</th>\n",
       "      <th>5</th>\n",
       "      <th>6</th>\n",
       "      <th>7</th>\n",
       "      <th>8</th>\n",
       "      <th>9</th>\n",
       "    </tr>\n",
       "  </thead>\n",
       "  <tbody>\n",
       "    <tr>\n",
       "      <th>mas_48</th>\n",
       "      <td>2.859445</td>\n",
       "      <td>16.678379</td>\n",
       "      <td>21.673462</td>\n",
       "      <td>3.853043</td>\n",
       "      <td>22.030736</td>\n",
       "      <td>22.291088</td>\n",
       "      <td>3.107723</td>\n",
       "      <td>0.672398</td>\n",
       "      <td>1.783759</td>\n",
       "      <td>3.888273</td>\n",
       "    </tr>\n",
       "    <tr>\n",
       "      <th>mas_52</th>\n",
       "      <td>5.182526</td>\n",
       "      <td>14.936838</td>\n",
       "      <td>16.892497</td>\n",
       "      <td>6.343913</td>\n",
       "      <td>10.322165</td>\n",
       "      <td>5.541894</td>\n",
       "      <td>3.931943</td>\n",
       "      <td>1.947770</td>\n",
       "      <td>2.639672</td>\n",
       "      <td>5.106457</td>\n",
       "    </tr>\n",
       "    <tr>\n",
       "      <th>mas_56</th>\n",
       "      <td>7.891175</td>\n",
       "      <td>13.746583</td>\n",
       "      <td>13.577278</td>\n",
       "      <td>7.796368</td>\n",
       "      <td>12.522278</td>\n",
       "      <td>9.280868</td>\n",
       "      <td>6.844602</td>\n",
       "      <td>10.570035</td>\n",
       "      <td>9.174798</td>\n",
       "      <td>6.044771</td>\n",
       "    </tr>\n",
       "    <tr>\n",
       "      <th>mas_60</th>\n",
       "      <td>9.013207</td>\n",
       "      <td>13.895413</td>\n",
       "      <td>15.329139</td>\n",
       "      <td>9.679789</td>\n",
       "      <td>14.119224</td>\n",
       "      <td>10.125921</td>\n",
       "      <td>7.032565</td>\n",
       "      <td>11.033445</td>\n",
       "      <td>11.369801</td>\n",
       "      <td>7.083987</td>\n",
       "    </tr>\n",
       "    <tr>\n",
       "      <th>mas_64</th>\n",
       "      <td>8.957199</td>\n",
       "      <td>15.155062</td>\n",
       "      <td>17.656095</td>\n",
       "      <td>11.355487</td>\n",
       "      <td>16.447951</td>\n",
       "      <td>11.000079</td>\n",
       "      <td>9.909527</td>\n",
       "      <td>18.831726</td>\n",
       "      <td>14.434927</td>\n",
       "      <td>7.440518</td>\n",
       "    </tr>\n",
       "  </tbody>\n",
       "</table>\n",
       "</div>"
      ],
      "text/plain": [
       "               0          1          2          3          4          5  \\\n",
       "mas_48  2.859445  16.678379  21.673462   3.853043  22.030736  22.291088   \n",
       "mas_52  5.182526  14.936838  16.892497   6.343913  10.322165   5.541894   \n",
       "mas_56  7.891175  13.746583  13.577278   7.796368  12.522278   9.280868   \n",
       "mas_60  9.013207  13.895413  15.329139   9.679789  14.119224  10.125921   \n",
       "mas_64  8.957199  15.155062  17.656095  11.355487  16.447951  11.000079   \n",
       "\n",
       "               6          7          8         9  \n",
       "mas_48  3.107723   0.672398   1.783759  3.888273  \n",
       "mas_52  3.931943   1.947770   2.639672  5.106457  \n",
       "mas_56  6.844602  10.570035   9.174798  6.044771  \n",
       "mas_60  7.032565  11.033445  11.369801  7.083987  \n",
       "mas_64  9.909527  18.831726  14.434927  7.440518  "
      ]
     },
     "execution_count": 2,
     "metadata": {},
     "output_type": "execute_result"
    }
   ],
   "source": [
    "# true sampling time labels\n",
    "true_time = pd.read_csv('../data/targets/target_test_rna.csv', index_col=0)\n",
    "# predictions\n",
    "multi_preds = pd.read_csv('results/predictions/rna_test_multiple.csv', index_col=0)\n",
    "multi_preds.head()"
   ]
  },
  {
   "cell_type": "markdown",
   "id": "3d1dd583-5453-4b2c-af94-01a58ec081ba",
   "metadata": {},
   "source": [
    "## Error analysis of individual subpredictors\n",
    "The absolute errors of each subpredictor suggest they are individually unreliable"
   ]
  },
  {
   "cell_type": "code",
   "execution_count": 3,
   "id": "2b25d85b-8ecb-4572-bd0f-82a75c21b5d8",
   "metadata": {},
   "outputs": [],
   "source": [
    "def errors(pred, true):\n",
    "    # Ensure 24-hour modulus in the target\n",
    "    true = true % 24\n",
    "    #from 24-hour time predictions, get error in minutes\n",
    "    err = pred - true\n",
    "    for i in range(0, err.shape[0]):\n",
    "        if err.iloc[i] > 12:\n",
    "            err.iloc[i] = err.iloc[i] - 24\n",
    "        if err.iloc[i] < -12:\n",
    "            err.iloc[i] = err.iloc[i] + 24\n",
    "    # return error in minutes\n",
    "    return err*60"
   ]
  },
  {
   "cell_type": "code",
   "execution_count": 4,
   "id": "b31ca07c-6e33-4161-8539-5eb06c89d5c5",
   "metadata": {},
   "outputs": [
    {
     "data": {
      "text/html": [
       "<div>\n",
       "<style scoped>\n",
       "    .dataframe tbody tr th:only-of-type {\n",
       "        vertical-align: middle;\n",
       "    }\n",
       "\n",
       "    .dataframe tbody tr th {\n",
       "        vertical-align: top;\n",
       "    }\n",
       "\n",
       "    .dataframe thead th {\n",
       "        text-align: right;\n",
       "    }\n",
       "</style>\n",
       "<table border=\"1\" class=\"dataframe\">\n",
       "  <thead>\n",
       "    <tr style=\"text-align: right;\">\n",
       "      <th></th>\n",
       "      <th>Subpredictor ID</th>\n",
       "      <th>Absolute error (mins)</th>\n",
       "    </tr>\n",
       "  </thead>\n",
       "  <tbody>\n",
       "    <tr>\n",
       "      <th>0</th>\n",
       "      <td>0</td>\n",
       "      <td>173.912634</td>\n",
       "    </tr>\n",
       "    <tr>\n",
       "      <th>1</th>\n",
       "      <td>1</td>\n",
       "      <td>147.906539</td>\n",
       "    </tr>\n",
       "    <tr>\n",
       "      <th>2</th>\n",
       "      <td>2</td>\n",
       "      <td>112.513537</td>\n",
       "    </tr>\n",
       "    <tr>\n",
       "      <th>3</th>\n",
       "      <td>3</td>\n",
       "      <td>114.454621</td>\n",
       "    </tr>\n",
       "    <tr>\n",
       "      <th>4</th>\n",
       "      <td>4</td>\n",
       "      <td>91.726232</td>\n",
       "    </tr>\n",
       "    <tr>\n",
       "      <th>5</th>\n",
       "      <td>5</td>\n",
       "      <td>102.073086</td>\n",
       "    </tr>\n",
       "    <tr>\n",
       "      <th>6</th>\n",
       "      <td>6</td>\n",
       "      <td>156.407738</td>\n",
       "    </tr>\n",
       "    <tr>\n",
       "      <th>7</th>\n",
       "      <td>7</td>\n",
       "      <td>109.827098</td>\n",
       "    </tr>\n",
       "    <tr>\n",
       "      <th>8</th>\n",
       "      <td>8</td>\n",
       "      <td>82.240515</td>\n",
       "    </tr>\n",
       "    <tr>\n",
       "      <th>9</th>\n",
       "      <td>9</td>\n",
       "      <td>140.693111</td>\n",
       "    </tr>\n",
       "  </tbody>\n",
       "</table>\n",
       "</div>"
      ],
      "text/plain": [
       "  Subpredictor ID Absolute error (mins)\n",
       "0               0            173.912634\n",
       "1               1            147.906539\n",
       "2               2            112.513537\n",
       "3               3            114.454621\n",
       "4               4             91.726232\n",
       "5               5            102.073086\n",
       "6               6            156.407738\n",
       "7               7            109.827098\n",
       "8               8             82.240515\n",
       "9               9            140.693111"
      ]
     },
     "execution_count": 4,
     "metadata": {},
     "output_type": "execute_result"
    }
   ],
   "source": [
    "# iteratively get the errors for each columns\n",
    "multi_error = multi_preds.copy()\n",
    "for i in range(0, multi_error.shape[1]):\n",
    "    multi_error.iloc[:,i] = errors(multi_error.iloc[:,i], true_time.iloc[:,0])\n",
    "\n",
    "# report the absolute error for each sub-predictor across all test samples\n",
    "pd.DataFrame(data=[multi_error.columns, np.mean(np.absolute(multi_error), axis=0)], index=['Subpredictor ID', 'Absolute error (mins)']).T"
   ]
  },
  {
   "cell_type": "markdown",
   "id": "25293ce3-bcea-47eb-8a42-42e3a13221fa",
   "metadata": {},
   "source": [
    "## Analysis of ensemble\n",
    "We instead chose to combine the predictions for each sample using the circular mean across subpredictors"
   ]
  },
  {
   "cell_type": "code",
   "execution_count": 5,
   "id": "038bd812-fb1a-4669-9643-27408159943a",
   "metadata": {},
   "outputs": [],
   "source": [
    "def time24(ipreds):\n",
    "    #returns times as an hourly value within a 24-hour modulus\n",
    "    preds = []\n",
    "    for i in range(ipreds.shape[0]):\n",
    "        preds.append(math.atan2(ipreds[i, 0], ipreds[i, 1]) / math.pi * 12)\n",
    "\n",
    "    for i in range(len(preds)):\n",
    "        if preds[i] < 0:\n",
    "            preds[i] = preds[i] + 24\n",
    "    return preds"
   ]
  },
  {
   "cell_type": "code",
   "execution_count": 6,
   "id": "1302dcd1-b76b-4c59-946a-cbd864e9b9a1",
   "metadata": {},
   "outputs": [],
   "source": [
    "def cyclic_time(times):\n",
    "    #this is used to convert the target (time of sampling) in hours to cosine and sine values\n",
    "    times = times % 24\n",
    "    t_cos = -np.cos((2 * np.pi * times.astype('float64') / 24)+(np.pi/2))\n",
    "    t_sin = np.sin((2 * np.pi * times.astype('float64') / 24)+(np.pi/2))\n",
    "    \n",
    "    return t_cos, t_sin"
   ]
  },
  {
   "cell_type": "code",
   "execution_count": 7,
   "id": "ae0a74f0-264d-44d6-bb55-c0a300ab1acf",
   "metadata": {},
   "outputs": [],
   "source": [
    "def circular_mean(predictions_24):\n",
    "    cos_vals = []\n",
    "    sin_vals = []\n",
    "\n",
    "    for i in range(0, predictions_24.shape[1]):\n",
    "        i_cos, i_sin = cyclic_time(predictions_24.iloc[:,i])\n",
    "        cos_vals.append(i_cos)\n",
    "        sin_vals.append(i_sin)\n",
    "\n",
    "    cos_vals = np.mean(cos_vals, axis=0)\n",
    "    sin_vals = np.mean(sin_vals, axis=0)\n",
    "\n",
    "    ct_vals = np.concatenate((np.asarray(cos_vals).reshape(-1, 1), np.asarray(sin_vals).reshape(-1, 1)), axis=1)\n",
    "    ct_24 = time24(ct_vals)\n",
    "    return ct_24"
   ]
  },
  {
   "cell_type": "code",
   "execution_count": 8,
   "id": "99aed1f0-a0ec-4cdf-a1b5-dfb3c36fadc4",
   "metadata": {},
   "outputs": [
    {
     "data": {
      "text/plain": [
       "Col_name\n",
       "mas_48     44.233768\n",
       "mas_52     84.969131\n",
       "mas_56    100.322328\n",
       "mas_60    -70.542128\n",
       "mas_64   -175.362802\n",
       "Name: Sampling time (CT/ZT), dtype: float64"
      ]
     },
     "execution_count": 8,
     "metadata": {},
     "output_type": "execute_result"
    }
   ],
   "source": [
    "circ_pred = circular_mean(multi_preds)\n",
    "ensemble_error = errors(circ_pred, true_time.iloc[:,0])\n",
    "ensemble_error.head()"
   ]
  },
  {
   "cell_type": "markdown",
   "id": "5f939d79-bdf1-495d-860d-aa0338d66898",
   "metadata": {},
   "source": [
    "The mean-absolute-error (MAE) of CT estimates combined using circular mean is lower than the average of absolute errors across sub-predictors. "
   ]
  },
  {
   "cell_type": "code",
   "execution_count": 9,
   "id": "fc493cfe-194a-4305-ae6c-00f5ba249f41",
   "metadata": {},
   "outputs": [
    {
     "name": "stderr",
     "output_type": "stream",
     "text": [
      "C:\\Users\\cjrri\\AppData\\Local\\Temp\\ipykernel_17188\\3688706247.py:1: MatplotlibDeprecationWarning: The 'labels' parameter of boxplot() has been renamed 'tick_labels' since Matplotlib 3.9; support for the old name will be dropped in 3.11.\n",
      "  plt.boxplot(x=[np.mean(np.absolute(multi_error), axis=1), np.absolute(ensemble_error)],\n"
     ]
    },
    {
     "data": {
      "text/plain": [
       "Text(0, 0.5, 'Absolute error (mins)')"
      ]
     },
     "execution_count": 9,
     "metadata": {},
     "output_type": "execute_result"
    },
    {
     "data": {
      "image/png": "[encoded data removed]",
      "text/plain": [
       "<Figure size 640x480 with 1 Axes>"
      ]
     },
     "metadata": {},
     "output_type": "display_data"
    }
   ],
   "source": [
    "\n",
    "plt.boxplot(x=[np.mean(np.absolute(multi_error), axis=1), np.absolute(ensemble_error)], \n",
    "            labels=['Average of absolute errors\\nMAE: {:.1f} mins'.format(np.mean(np.mean(np.absolute(multi_error), axis=1))), \n",
    "                    'Circular mean of CT\\nMAE: {:.1f} mins'.format(np.mean(np.absolute(ensemble_error)))])\n",
    "plt.ylabel('Absolute error (mins)')"
   ]
  },
  {
   "cell_type": "markdown",
   "id": "50cbc0f9-5fcb-4e39-87fd-3863be108906",
   "metadata": {},
   "source": [
    "This demonstrates the ensemble of subpredictors (aggregated using a circular mean of their outputs) can be expected to be more reliable across unseen samples compared with using individual subpredictors."
   ]
  }
 ],
 "metadata": {
  "kernelspec": {
   "display_name": "Python 3 (ipykernel)",
   "language": "python",
   "name": "python3"
  },
  "language_info": {
   "codemirror_mode": {
    "name": "ipython",
    "version": 3
   },
   "file_extension": ".py",
   "mimetype": "text/x-python",
   "name": "python",
   "nbconvert_exporter": "python",
   "pygments_lexer": "ipython3",
   "version": "3.9.19"
  }
 },
 "nbformat": 4,
 "nbformat_minor": 5
}
