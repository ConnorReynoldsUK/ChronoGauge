{
 "cells": [
  {
   "cell_type": "markdown",
   "id": "4297afa3-32f3-4aa5-8fc6-fcb0e60b73b0",
   "metadata": {},
   "source": [
    "# Using trained & saved models to predict the time in RNA-seq data\n",
    "This notebook will demonstrate applying ChronoGauge to make circadian time (CT) predictions in test samples using an ensemble of models that are already trained and saved. "
   ]
  },
  {
   "cell_type": "code",
   "execution_count": 1,
   "id": "c3b174db-6df3-42ca-a005-fc446e07ecb8",
   "metadata": {},
   "outputs": [],
   "source": [
    "import pandas as pd\n",
    "import numpy as np\n",
    "import tensorflow as tf\n",
    "from sklearn.preprocessing import StandardScaler\n",
    "import matplotlib.pyplot as plt\n",
    "import pickle\n",
    "import math\n",
    "import random\n",
    "import os"
   ]
  },
  {
   "cell_type": "code",
   "execution_count": 2,
   "id": "6d987789-182d-4450-9d39-194566274358",
   "metadata": {},
   "outputs": [],
   "source": [
    "# Define seed\n",
    "SEED = 0\n",
    "random.seed(SEED)\n",
    "np.random.seed(SEED)\n",
    "tf.random.set_seed(SEED)\n",
    "os.environ['PYTHONHASHSEED'] = str(SEED)\n"
   ]
  },
  {
   "cell_type": "markdown",
   "id": "36368641-e006-43c3-bc9a-d158ca6acead",
   "metadata": {},
   "source": [
    "## 1. Data & model loading and pre-processing\n",
    "As an example, we will use 10 trained sub-predictor models (id 0-9) for RNA-seq data. We load the respective models, their gene features and the RNA-seq dataset of choice"
   ]
  },
  {
   "cell_type": "code",
   "execution_count": 3,
   "id": "6837e90c-f11f-44a9-8e14-b2d4a64db01f",
   "metadata": {},
   "outputs": [],
   "source": [
    "# load the test sample's expression matrix\n",
    "X_test = pd.read_csv('../data/expression_matrices/x_test_rna.csv', index_col=0)\n",
    "\n",
    "# Load the test sample's target sampling times that were are trying to predict\n",
    "Y_test = pd.read_csv('../data/targets/target_test_rna.csv', index_col=0)\n",
    "# load all features\n",
    "features = pd.read_csv('../data/model_parameters/gene_features_unadjusted.csv', index_col=0)\n",
    "\n",
    "#itertively select models and their respective features\n",
    "model_dict = {}\n",
    "\n",
    "for i in range(0, 10):\n",
    "    i_model = tf.keras.models.load_model('models/model_rna/model_{}.h5'.format(i), compile=False)\n",
    "    i_features = features.iloc[i].dropna().to_numpy()\n",
    "        \n",
    "    model_dict[i] = (i_model, i_features)"
   ]
  },
  {
   "cell_type": "markdown",
   "id": "0bfc1dd0-f606-4ed2-9387-61104efd9b61",
   "metadata": {},
   "source": [
    "Since we are using RNA-seq data, we also load the original RNA-seq training dataset and standardize the test data to the same scaling factor."
   ]
  },
  {
   "cell_type": "markdown",
   "id": "4a117c70-19df-404e-ad05-22cbb3f1b89d",
   "metadata": {},
   "source": [
    "NOTE if using microarray data, the test data should be standardized using a scaling factor instead fit to a microrray time-course, not an RNA-seq experiment."
   ]
  },
  {
   "cell_type": "code",
   "execution_count": 4,
   "id": "3aa70daa-a051-40ae-82ea-9d224c4ad954",
   "metadata": {},
   "outputs": [],
   "source": [
    "# load training RNA-seq data\n",
    "X_train = pd.read_csv('../data/expression_matrices/x_training.csv', index_col=0)\n",
    "\n",
    "# Ensure the X_test data has the same features as the training data\n",
    "X_test = X_test.loc[X_train.index]\n",
    "\n",
    "# Standardize the training expression values using z-score scaling (StandardScaler)\n",
    "scaler = StandardScaler()\n",
    "X_train = pd.DataFrame(data=scaler.fit_transform(X_train.T).T, index=X_train.index, columns=X_train.columns)\n",
    "\n",
    "\n",
    "# Fit the test data to scaling factor of the training\n",
    "X_test = pd.DataFrame(data=scaler.transform(X_test.T).T, index=X_test.index, columns=X_test.columns)\n"
   ]
  },
  {
   "cell_type": "markdown",
   "id": "9d038399-4a96-49c9-aa7a-93f7cfcb7afc",
   "metadata": {},
   "source": [
    "## 2. Applying models\n",
    "Using the gene features correspoding to each model (based on id), we can predict the CT."
   ]
  },
  {
   "cell_type": "markdown",
   "id": "644c2a7b-e355-463b-a431-117c3f290c6e",
   "metadata": {},
   "source": [
    "Example with model 0:"
   ]
  },
  {
   "cell_type": "code",
   "execution_count": 5,
   "id": "2111cfb2-524c-4191-801f-105c4f7dc5e5",
   "metadata": {},
   "outputs": [
    {
     "data": {
      "text/plain": [
       "<tf.Tensor: shape=(10, 2), dtype=float32, numpy=\n",
       "array([[ 0.01453996,  0.01565142],\n",
       "       [ 0.02570402,  0.00558658],\n",
       "       [ 0.02209855, -0.01193251],\n",
       "       [ 0.01680603, -0.01692266],\n",
       "       [ 0.01159829, -0.01134124],\n",
       "       [ 0.00457609,  0.00675956],\n",
       "       [ 0.02086504,  0.04027856],\n",
       "       [ 0.02363191,  0.03483127],\n",
       "       [ 0.02363634, -0.01902062],\n",
       "       [ 0.01802804, -0.0240086 ]], dtype=float32)>"
      ]
     },
     "execution_count": 5,
     "metadata": {},
     "output_type": "execute_result"
    }
   ],
   "source": [
    "# extract id 0 model & features from model dictionary\n",
    "model_0, features_0 = model_dict[0]\n",
    "\n",
    "\n",
    "\n",
    "# X_test must use only id 0's features\n",
    "X_test_0 = X_test.loc[features_0]\n",
    "\n",
    "#predict CT of the test data\n",
    "results_0 = model_0(X_test_0.T)\n",
    "results_0[:10]"
   ]
  },
  {
   "cell_type": "markdown",
   "id": "1c2a081f-ccf1-4123-bca7-e777be384e8e",
   "metadata": {},
   "source": [
    "Example with models 0-9:"
   ]
  },
  {
   "cell_type": "code",
   "execution_count": 6,
   "id": "d568822c-f980-4a62-b3e5-d4f0602ee38f",
   "metadata": {},
   "outputs": [
    {
     "data": {
      "text/plain": [
       "array([[ 0.01901857,  0.01173506],\n",
       "       [ 0.02729763,  0.0065048 ],\n",
       "       [ 0.03184278, -0.00037325],\n",
       "       [ 0.02565046, -0.00748119],\n",
       "       [ 0.01949359, -0.00772112],\n",
       "       [ 0.02919834,  0.00547488],\n",
       "       [ 0.00934584,  0.01669644],\n",
       "       [-0.00819816,  0.01082269],\n",
       "       [ 0.0365066 , -0.00911983],\n",
       "       [ 0.04769846, -0.00913635]], dtype=float32)"
      ]
     },
     "execution_count": 6,
     "metadata": {},
     "output_type": "execute_result"
    }
   ],
   "source": [
    "results_dict = {}\n",
    "# Iterate over model ids and predict\n",
    "for i in range(0, 10):\n",
    "    i_model, i_features = model_dict[i]\n",
    "    # Set test features\n",
    "    i_X_test = X_test.loc[i_features]\n",
    "    i_results = i_model(i_X_test.T)\n",
    "    results_dict[i] = i_results\n",
    "np.asarray(results_dict[9])[:10]"
   ]
  },
  {
   "cell_type": "markdown",
   "id": "172f1b6a-5268-4c36-b63c-00068c172e8c",
   "metadata": {},
   "source": [
    "## 3. Processing results of individual sub-predictors\n",
    "The model generates two outputs - circular values representing the sin(CT) and -cos(CT). Thus, they must be converted back into an hourly CT value using the following atan function (note this is included in utils.py):"
   ]
  },
  {
   "cell_type": "code",
   "execution_count": 7,
   "id": "013ceb9b-128e-492f-b951-47ed04834124",
   "metadata": {},
   "outputs": [],
   "source": [
    "def time24(ipreds):\n",
    "    #returns times as an hourly value within a 24-hour modulus\n",
    "    preds = []\n",
    "    for i in range(ipreds.shape[0]):\n",
    "        preds.append(math.atan2(ipreds[i, 0], ipreds[i, 1]) / math.pi * 12)\n",
    "\n",
    "    for i in range(len(preds)):\n",
    "        if preds[i] < 0:\n",
    "            preds[i] = preds[i] + 24\n",
    "    return preds"
   ]
  },
  {
   "cell_type": "code",
   "execution_count": 8,
   "id": "f20b746f-5700-4710-8b1e-e84618afdc77",
   "metadata": {},
   "outputs": [
    {
     "data": {
      "text/plain": [
       "[2.8594450856245355,\n",
       " 5.1825261108991025,\n",
       " 7.89117506899127,\n",
       " 9.013207205162633,\n",
       " 8.95719902006208,\n",
       " 2.273149369293983,\n",
       " 1.8256665748655978,\n",
       " 2.277042531688691,\n",
       " 8.588287395818401,\n",
       " 9.539809286780924]"
      ]
     },
     "execution_count": 8,
     "metadata": {},
     "output_type": "execute_result"
    }
   ],
   "source": [
    "pred24_0 = time24(results_dict[0])\n",
    "pred24_0[:10]"
   ]
  },
  {
   "cell_type": "markdown",
   "id": "ecad7e8d-9970-48f5-9fd7-15a33202a1d7",
   "metadata": {},
   "source": [
    "The errors of individual sub-predictors can be analyzed using the following function considering 24 hours as a modulus:"
   ]
  },
  {
   "cell_type": "code",
   "execution_count": 9,
   "id": "fe487093-1551-440d-88d8-a2070fd887a3",
   "metadata": {},
   "outputs": [],
   "source": [
    "def errors(pred, true):\n",
    "    # Ensure 24-hour modulus in the target\n",
    "    true = true % 24\n",
    "    #from 24-hour time predictions, get error in minutes\n",
    "    err = pred - true\n",
    "    for i in range(0, err.shape[0]):\n",
    "        if err.iloc[i] > 12:\n",
    "            err.iloc[i] = err.iloc[i] - 24\n",
    "        if err.iloc[i] < -12:\n",
    "            err.iloc[i] = err.iloc[i] + 24\n",
    "    # return error in minutes\n",
    "    return err*60\n"
   ]
  },
  {
   "cell_type": "code",
   "execution_count": 10,
   "id": "f7bb17f9-b7a5-4a6d-a5c6-fccdb0f320ef",
   "metadata": {},
   "outputs": [
    {
     "data": {
      "text/plain": [
       "Col_name\n",
       "mas_48    171.566705\n",
       "mas_52     70.951567\n",
       "mas_56     -6.529496\n",
       "mas_60   -179.207568\n",
       "mas_64   -422.568059\n",
       "Name: Sampling time (CT/ZT), dtype: float64"
      ]
     },
     "execution_count": 10,
     "metadata": {},
     "output_type": "execute_result"
    }
   ],
   "source": [
    "error_0 = errors(pred24_0, Y_test.iloc[:,0])\n",
    "error_0.head()"
   ]
  },
  {
   "cell_type": "markdown",
   "id": "28edd402-9d62-45e9-8823-c9fa0152a18d",
   "metadata": {},
   "source": [
    "However, based on cross-validation results, we found individual sub-predictors are unreliable and it is impossible to tell which sub-predictors will peform accurately or innacurately in unseen test samples."
   ]
  },
  {
   "cell_type": "markdown",
   "id": "1199ab03-bc3d-416a-b4b4-f318f6b43508",
   "metadata": {},
   "source": [
    " "
   ]
  },
  {
   "cell_type": "markdown",
   "id": "0e7d8658-252b-4d0e-b051-e152399abf23",
   "metadata": {},
   "source": [
    "## 4. Aggretation of results of individual sub-predictors\n",
    "To overcome this unreliability, we aggregate sub-predictor outputs using a circular mean. Combining predictions as a bagging-like ensemble is essential to ChronoGauge's consistent performance across unseen data."
   ]
  },
  {
   "cell_type": "markdown",
   "id": "d6fc15a0-7cc4-4b13-9f97-e1819b90d8fa",
   "metadata": {},
   "source": [
    "The following function converts 24-hour CT predictions into sine/cosine values"
   ]
  },
  {
   "cell_type": "code",
   "execution_count": 11,
   "id": "550b61cc-e367-4c82-8ebc-54ce9fc95bb1",
   "metadata": {},
   "outputs": [],
   "source": [
    "def cyclic_time(times):\n",
    "    #this is used to convert the target (time of sampling) in hours to cosine and sine values\n",
    "    times = times % 24\n",
    "    t_cos = -np.cos((2 * np.pi * times.astype('float64') / 24)+(np.pi/2))\n",
    "    t_sin = np.sin((2 * np.pi * times.astype('float64') / 24)+(np.pi/2))\n",
    "    \n",
    "    return t_cos, t_sin\n"
   ]
  },
  {
   "cell_type": "markdown",
   "id": "f3e1faf7-f34a-4ac7-881c-55f8c6b7ecd0",
   "metadata": {},
   "source": [
    "The following function uses cyclic_time() to aggregate the results of a dataframe of 24-hour CT predictions"
   ]
  },
  {
   "cell_type": "code",
   "execution_count": 12,
   "id": "34200f5f-75b3-4f2d-8829-1f3c79e16419",
   "metadata": {},
   "outputs": [],
   "source": [
    "def circular_mean(predictions_24):\n",
    "    cos_vals = []\n",
    "    sin_vals = []\n",
    "\n",
    "    for i in range(0, predictions_24.shape[1]):\n",
    "        i_cos, i_sin = cyclic_time(predictions_24.iloc[:,i])\n",
    "        cos_vals.append(i_cos)\n",
    "        sin_vals.append(i_sin)\n",
    "\n",
    "    cos_vals = np.mean(cos_vals, axis=0)\n",
    "    sin_vals = np.mean(sin_vals, axis=0)\n",
    "\n",
    "    ct_vals = np.concatenate((np.asarray(cos_vals).reshape(-1, 1), np.asarray(sin_vals).reshape(-1, 1)), axis=1)\n",
    "    ct_24 = time24(ct_vals)\n",
    "    return ct_24\n",
    "\n"
   ]
  },
  {
   "cell_type": "code",
   "execution_count": 13,
   "id": "5f562975-a969-4293-ab5f-719652f450fa",
   "metadata": {},
   "outputs": [
    {
     "data": {
      "text/html": [
       "<div>\n",
       "<style scoped>\n",
       "    .dataframe tbody tr th:only-of-type {\n",
       "        vertical-align: middle;\n",
       "    }\n",
       "\n",
       "    .dataframe tbody tr th {\n",
       "        vertical-align: top;\n",
       "    }\n",
       "\n",
       "    .dataframe thead th {\n",
       "        text-align: right;\n",
       "    }\n",
       "</style>\n",
       "<table border=\"1\" class=\"dataframe\">\n",
       "  <thead>\n",
       "    <tr style=\"text-align: right;\">\n",
       "      <th></th>\n",
       "      <th>0</th>\n",
       "      <th>1</th>\n",
       "      <th>2</th>\n",
       "      <th>3</th>\n",
       "      <th>4</th>\n",
       "      <th>5</th>\n",
       "      <th>6</th>\n",
       "      <th>7</th>\n",
       "      <th>8</th>\n",
       "      <th>9</th>\n",
       "    </tr>\n",
       "  </thead>\n",
       "  <tbody>\n",
       "    <tr>\n",
       "      <th>mas_48</th>\n",
       "      <td>2.859445</td>\n",
       "      <td>16.678379</td>\n",
       "      <td>21.673462</td>\n",
       "      <td>3.853043</td>\n",
       "      <td>22.030736</td>\n",
       "      <td>22.291088</td>\n",
       "      <td>3.107723</td>\n",
       "      <td>0.672398</td>\n",
       "      <td>1.783759</td>\n",
       "      <td>3.888273</td>\n",
       "    </tr>\n",
       "    <tr>\n",
       "      <th>mas_52</th>\n",
       "      <td>5.182526</td>\n",
       "      <td>14.936838</td>\n",
       "      <td>16.892497</td>\n",
       "      <td>6.343913</td>\n",
       "      <td>10.322165</td>\n",
       "      <td>5.541894</td>\n",
       "      <td>3.931943</td>\n",
       "      <td>1.947770</td>\n",
       "      <td>2.639672</td>\n",
       "      <td>5.106457</td>\n",
       "    </tr>\n",
       "    <tr>\n",
       "      <th>mas_56</th>\n",
       "      <td>7.891175</td>\n",
       "      <td>13.746583</td>\n",
       "      <td>13.577278</td>\n",
       "      <td>7.796368</td>\n",
       "      <td>12.522278</td>\n",
       "      <td>9.280868</td>\n",
       "      <td>6.844602</td>\n",
       "      <td>10.570035</td>\n",
       "      <td>9.174798</td>\n",
       "      <td>6.044771</td>\n",
       "    </tr>\n",
       "    <tr>\n",
       "      <th>mas_60</th>\n",
       "      <td>9.013207</td>\n",
       "      <td>13.895413</td>\n",
       "      <td>15.329139</td>\n",
       "      <td>9.679789</td>\n",
       "      <td>14.119224</td>\n",
       "      <td>10.125921</td>\n",
       "      <td>7.032565</td>\n",
       "      <td>11.033445</td>\n",
       "      <td>11.369801</td>\n",
       "      <td>7.083987</td>\n",
       "    </tr>\n",
       "    <tr>\n",
       "      <th>mas_64</th>\n",
       "      <td>8.957199</td>\n",
       "      <td>15.155062</td>\n",
       "      <td>17.656095</td>\n",
       "      <td>11.355487</td>\n",
       "      <td>16.447951</td>\n",
       "      <td>11.000079</td>\n",
       "      <td>9.909527</td>\n",
       "      <td>18.831726</td>\n",
       "      <td>14.434927</td>\n",
       "      <td>7.440518</td>\n",
       "    </tr>\n",
       "  </tbody>\n",
       "</table>\n",
       "</div>"
      ],
      "text/plain": [
       "               0          1          2          3          4          5  \\\n",
       "mas_48  2.859445  16.678379  21.673462   3.853043  22.030736  22.291088   \n",
       "mas_52  5.182526  14.936838  16.892497   6.343913  10.322165   5.541894   \n",
       "mas_56  7.891175  13.746583  13.577278   7.796368  12.522278   9.280868   \n",
       "mas_60  9.013207  13.895413  15.329139   9.679789  14.119224  10.125921   \n",
       "mas_64  8.957199  15.155062  17.656095  11.355487  16.447951  11.000079   \n",
       "\n",
       "               6          7          8         9  \n",
       "mas_48  3.107723   0.672398   1.783759  3.888273  \n",
       "mas_52  3.931943   1.947770   2.639672  5.106457  \n",
       "mas_56  6.844602  10.570035   9.174798  6.044771  \n",
       "mas_60  7.032565  11.033445  11.369801  7.083987  \n",
       "mas_64  9.909527  18.831726  14.434927  7.440518  "
      ]
     },
     "execution_count": 13,
     "metadata": {},
     "output_type": "execute_result"
    }
   ],
   "source": [
    "# Get 24 hour CT predictions for each model\n",
    "all_preds = []\n",
    "for i in range(0, 10):\n",
    "    i_preds = time24(results_dict[i])\n",
    "    all_preds.append(i_preds)\n",
    "# Create dataframe for results\n",
    "all_preds = pd.DataFrame(data=all_preds, columns=X_test.columns).T\n",
    "all_preds.to_csv('results/predictions/rna_test_multiple.csv')\n",
    "all_preds.head()"
   ]
  },
  {
   "cell_type": "code",
   "execution_count": 14,
   "id": "b86e7f89-67b4-497f-9bf9-7bda92539ec8",
   "metadata": {},
   "outputs": [
    {
     "data": {
      "text/html": [
       "<div>\n",
       "<style scoped>\n",
       "    .dataframe tbody tr th:only-of-type {\n",
       "        vertical-align: middle;\n",
       "    }\n",
       "\n",
       "    .dataframe tbody tr th {\n",
       "        vertical-align: top;\n",
       "    }\n",
       "\n",
       "    .dataframe thead th {\n",
       "        text-align: right;\n",
       "    }\n",
       "</style>\n",
       "<table border=\"1\" class=\"dataframe\">\n",
       "  <thead>\n",
       "    <tr style=\"text-align: right;\">\n",
       "      <th></th>\n",
       "      <th>Sampling time (hr)</th>\n",
       "      <th>Predicted CT (hr)</th>\n",
       "      <th>Error (mins)</th>\n",
       "      <th>Absolute error (mins)</th>\n",
       "    </tr>\n",
       "    <tr>\n",
       "      <th>Col_name</th>\n",
       "      <th></th>\n",
       "      <th></th>\n",
       "      <th></th>\n",
       "      <th></th>\n",
       "    </tr>\n",
       "  </thead>\n",
       "  <tbody>\n",
       "    <tr>\n",
       "      <th>mas_48</th>\n",
       "      <td>0</td>\n",
       "      <td>0.737229</td>\n",
       "      <td>44.233768</td>\n",
       "      <td>44.233768</td>\n",
       "    </tr>\n",
       "    <tr>\n",
       "      <th>mas_52</th>\n",
       "      <td>4</td>\n",
       "      <td>5.416152</td>\n",
       "      <td>84.969131</td>\n",
       "      <td>84.969131</td>\n",
       "    </tr>\n",
       "    <tr>\n",
       "      <th>mas_56</th>\n",
       "      <td>8</td>\n",
       "      <td>9.672039</td>\n",
       "      <td>100.322328</td>\n",
       "      <td>100.322328</td>\n",
       "    </tr>\n",
       "    <tr>\n",
       "      <th>mas_60</th>\n",
       "      <td>12</td>\n",
       "      <td>10.824298</td>\n",
       "      <td>-70.542128</td>\n",
       "      <td>70.542128</td>\n",
       "    </tr>\n",
       "    <tr>\n",
       "      <th>mas_64</th>\n",
       "      <td>16</td>\n",
       "      <td>13.077287</td>\n",
       "      <td>-175.362802</td>\n",
       "      <td>175.362802</td>\n",
       "    </tr>\n",
       "  </tbody>\n",
       "</table>\n",
       "</div>"
      ],
      "text/plain": [
       "          Sampling time (hr)  Predicted CT (hr)  Error (mins)  \\\n",
       "Col_name                                                        \n",
       "mas_48                     0           0.737229     44.233768   \n",
       "mas_52                     4           5.416152     84.969131   \n",
       "mas_56                     8           9.672039    100.322328   \n",
       "mas_60                    12          10.824298    -70.542128   \n",
       "mas_64                    16          13.077287   -175.362802   \n",
       "\n",
       "          Absolute error (mins)  \n",
       "Col_name                         \n",
       "mas_48                44.233768  \n",
       "mas_52                84.969131  \n",
       "mas_56               100.322328  \n",
       "mas_60                70.542128  \n",
       "mas_64               175.362802  "
      ]
     },
     "execution_count": 14,
     "metadata": {},
     "output_type": "execute_result"
    }
   ],
   "source": [
    "# Use circular_mean function to obtain an aggregated prediction across the sub-predictors\n",
    "circ_pred = circular_mean(all_preds)\n",
    "\n",
    "# Get error metrics for CT preditions\n",
    "final_results = pd.DataFrame(data=Y_test.iloc[:,0].to_numpy() % 24, index=Y_test.index, columns=['Sampling time (hr)'])\n",
    "final_results['Predicted CT (hr)'] = circ_pred\n",
    "final_results['Error (mins)'] = errors(np.asarray(circ_pred), Y_test.iloc[:,0])\n",
    "final_results['Absolute error (mins)'] = np.absolute(final_results['Error (mins)'])\n",
    "final_results.head()"
   ]
  },
  {
   "cell_type": "markdown",
   "id": "2f794966-9674-45a5-8bd9-4ec6bafec5df",
   "metadata": {},
   "source": [
    "Based on cross-validation results, we expect a larger ensemble of sub-predictors will give more accurate results."
   ]
  }
 ],
 "metadata": {
  "kernelspec": {
   "display_name": "Python 3 (ipykernel)",
   "language": "python",
   "name": "python3"
  },
  "language_info": {
   "codemirror_mode": {
    "name": "ipython",
    "version": 3
   },
   "file_extension": ".py",
   "mimetype": "text/x-python",
   "name": "python",
   "nbconvert_exporter": "python",
   "pygments_lexer": "ipython3",
   "version": "3.9.5"
  }
 },
 "nbformat": 4,
 "nbformat_minor": 5
}
