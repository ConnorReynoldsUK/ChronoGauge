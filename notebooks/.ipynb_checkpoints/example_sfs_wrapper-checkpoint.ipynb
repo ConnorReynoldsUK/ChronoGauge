{
 "cells": [
  {
   "cell_type": "markdown",
   "id": "3b01b7da-3df9-45ee-8ac4-9abc563962a6",
   "metadata": {},
   "source": [
    "# Sequential feature selection (SFS) wrapper\n",
    "This notebook will demonstrate how to peform a SFS run for identifying a robust set of circadian time (CT) predicting genes within a specific subpredictor. \n",
    "\n",
    "We note that the method is intended to be performed across multiple runs to generate unique gene feature sets for training an ensemble of subpredictors."
   ]
  },
  {
   "cell_type": "code",
   "execution_count": 1,
   "id": "1c157d94-7792-4b4f-9372-5e1da2f5719f",
   "metadata": {},
   "outputs": [
    {
     "name": "stdout",
     "output_type": "stream",
     "text": [
      "Python 3.9.5\n"
     ]
    }
   ],
   "source": [
    "!python --version"
   ]
  },
  {
   "cell_type": "code",
   "execution_count": 2,
   "id": "6cfd337b-becf-46cc-8ff4-c46c90cb98cd",
   "metadata": {},
   "outputs": [],
   "source": [
    "import pandas as pd\n",
    "import numpy as np\n",
    "import os\n",
    "import random\n",
    "from chronogauge_model.sfs_main_notebook import define_feature_space, load_expression_data\n",
    "from chronogauge_model.sfs_method_notebook import SFS_hub\n",
    "import matplotlib.pyplot as plt"
   ]
  },
  {
   "cell_type": "code",
   "execution_count": 3,
   "id": "4b90c407-0d5f-4544-97eb-d8a8ce9b01ed",
   "metadata": {},
   "outputs": [],
   "source": [
    "gene_number = 0\n",
    "SEED = gene_number\n",
    "np.random.seed(SEED)\n",
    "os.environ['PYTHONHASHSEED'] = str(SEED)"
   ]
  },
  {
   "cell_type": "markdown",
   "id": "3d74d16f-aaf9-4269-8258-82abf13c8a6b",
   "metadata": {},
   "source": [
    "## 1. Load the training data \n",
    "Algorithm takes a training expression matrix and the corresponding target sampling time labels\n"
   ]
  },
  {
   "cell_type": "code",
   "execution_count": 4,
   "id": "92f03cd4-3130-44a6-868b-30ad1dece1bc",
   "metadata": {},
   "outputs": [
    {
     "data": {
      "text/html": [
       "<div>\n",
       "<style scoped>\n",
       "    .dataframe tbody tr th:only-of-type {\n",
       "        vertical-align: middle;\n",
       "    }\n",
       "\n",
       "    .dataframe tbody tr th {\n",
       "        vertical-align: top;\n",
       "    }\n",
       "\n",
       "    .dataframe thead th {\n",
       "        text-align: right;\n",
       "    }\n",
       "</style>\n",
       "<table border=\"1\" class=\"dataframe\">\n",
       "  <thead>\n",
       "    <tr style=\"text-align: right;\">\n",
       "      <th></th>\n",
       "      <th>AT1G01010</th>\n",
       "      <th>AT1G01020</th>\n",
       "      <th>AT1G01030</th>\n",
       "      <th>AT1G01040</th>\n",
       "      <th>AT1G01046</th>\n",
       "      <th>AT1G01050</th>\n",
       "      <th>AT1G01060</th>\n",
       "      <th>AT1G01070</th>\n",
       "      <th>AT1G01080</th>\n",
       "      <th>AT1G01090</th>\n",
       "      <th>...</th>\n",
       "      <th>ATMG01330</th>\n",
       "      <th>ATMG01350</th>\n",
       "      <th>ATMG01360</th>\n",
       "      <th>ATMG01370</th>\n",
       "      <th>ATMG01380</th>\n",
       "      <th>ATMG01390</th>\n",
       "      <th>ATMG01400</th>\n",
       "      <th>ATMG01410</th>\n",
       "      <th>ATMG09740</th>\n",
       "      <th>ATMG09950</th>\n",
       "    </tr>\n",
       "  </thead>\n",
       "  <tbody>\n",
       "    <tr>\n",
       "      <th>0</th>\n",
       "      <td>-1.585547</td>\n",
       "      <td>1.370367</td>\n",
       "      <td>0.319884</td>\n",
       "      <td>0.271505</td>\n",
       "      <td>-1.731601</td>\n",
       "      <td>0.141336</td>\n",
       "      <td>1.575798</td>\n",
       "      <td>-0.992267</td>\n",
       "      <td>1.207291</td>\n",
       "      <td>-0.432054</td>\n",
       "      <td>...</td>\n",
       "      <td>-0.349540</td>\n",
       "      <td>-0.864648</td>\n",
       "      <td>-0.974795</td>\n",
       "      <td>-0.305604</td>\n",
       "      <td>-0.425843</td>\n",
       "      <td>-1.152897</td>\n",
       "      <td>-0.482319</td>\n",
       "      <td>0.312287</td>\n",
       "      <td>-0.475449</td>\n",
       "      <td>-0.613455</td>\n",
       "    </tr>\n",
       "    <tr>\n",
       "      <th>4</th>\n",
       "      <td>-1.793894</td>\n",
       "      <td>-0.595484</td>\n",
       "      <td>-0.203223</td>\n",
       "      <td>-1.763895</td>\n",
       "      <td>-1.561219</td>\n",
       "      <td>-0.348610</td>\n",
       "      <td>0.288726</td>\n",
       "      <td>-0.705424</td>\n",
       "      <td>0.951462</td>\n",
       "      <td>-0.122206</td>\n",
       "      <td>...</td>\n",
       "      <td>-0.615190</td>\n",
       "      <td>-0.833232</td>\n",
       "      <td>-1.024247</td>\n",
       "      <td>-0.487756</td>\n",
       "      <td>-0.598548</td>\n",
       "      <td>-1.178753</td>\n",
       "      <td>-0.482319</td>\n",
       "      <td>-0.673769</td>\n",
       "      <td>-0.475449</td>\n",
       "      <td>-0.613455</td>\n",
       "    </tr>\n",
       "    <tr>\n",
       "      <th>8</th>\n",
       "      <td>-1.636306</td>\n",
       "      <td>-1.354855</td>\n",
       "      <td>-1.045151</td>\n",
       "      <td>-2.347817</td>\n",
       "      <td>-1.110375</td>\n",
       "      <td>-0.599636</td>\n",
       "      <td>-0.716710</td>\n",
       "      <td>-1.174892</td>\n",
       "      <td>0.626332</td>\n",
       "      <td>-0.159070</td>\n",
       "      <td>...</td>\n",
       "      <td>-0.335453</td>\n",
       "      <td>-0.522868</td>\n",
       "      <td>-0.895053</td>\n",
       "      <td>-0.536744</td>\n",
       "      <td>-0.554278</td>\n",
       "      <td>-1.014511</td>\n",
       "      <td>-0.482319</td>\n",
       "      <td>-0.917752</td>\n",
       "      <td>-0.475449</td>\n",
       "      <td>-0.613455</td>\n",
       "    </tr>\n",
       "    <tr>\n",
       "      <th>12</th>\n",
       "      <td>-1.362856</td>\n",
       "      <td>-2.540762</td>\n",
       "      <td>-0.171809</td>\n",
       "      <td>-3.139341</td>\n",
       "      <td>-1.557141</td>\n",
       "      <td>1.175237</td>\n",
       "      <td>-0.755814</td>\n",
       "      <td>-1.288625</td>\n",
       "      <td>1.566648</td>\n",
       "      <td>-0.165744</td>\n",
       "      <td>...</td>\n",
       "      <td>0.291973</td>\n",
       "      <td>-0.864648</td>\n",
       "      <td>-0.695884</td>\n",
       "      <td>-0.515004</td>\n",
       "      <td>-0.667620</td>\n",
       "      <td>-0.873547</td>\n",
       "      <td>0.602385</td>\n",
       "      <td>-0.917752</td>\n",
       "      <td>-0.475449</td>\n",
       "      <td>0.098647</td>\n",
       "    </tr>\n",
       "    <tr>\n",
       "      <th>16</th>\n",
       "      <td>-1.370857</td>\n",
       "      <td>1.623128</td>\n",
       "      <td>0.628057</td>\n",
       "      <td>0.339852</td>\n",
       "      <td>-0.440937</td>\n",
       "      <td>2.386494</td>\n",
       "      <td>-0.664216</td>\n",
       "      <td>-0.948583</td>\n",
       "      <td>1.886325</td>\n",
       "      <td>-0.792811</td>\n",
       "      <td>...</td>\n",
       "      <td>-0.377875</td>\n",
       "      <td>-0.864648</td>\n",
       "      <td>-0.890843</td>\n",
       "      <td>-0.533861</td>\n",
       "      <td>-0.777886</td>\n",
       "      <td>-1.151471</td>\n",
       "      <td>-0.482319</td>\n",
       "      <td>-0.917752</td>\n",
       "      <td>-0.475449</td>\n",
       "      <td>-0.613455</td>\n",
       "    </tr>\n",
       "  </tbody>\n",
       "</table>\n",
       "<p>5 rows × 26052 columns</p>\n",
       "</div>"
      ],
      "text/plain": [
       "    AT1G01010  AT1G01020  AT1G01030  AT1G01040  AT1G01046  AT1G01050  \\\n",
       "0   -1.585547   1.370367   0.319884   0.271505  -1.731601   0.141336   \n",
       "4   -1.793894  -0.595484  -0.203223  -1.763895  -1.561219  -0.348610   \n",
       "8   -1.636306  -1.354855  -1.045151  -2.347817  -1.110375  -0.599636   \n",
       "12  -1.362856  -2.540762  -0.171809  -3.139341  -1.557141   1.175237   \n",
       "16  -1.370857   1.623128   0.628057   0.339852  -0.440937   2.386494   \n",
       "\n",
       "    AT1G01060  AT1G01070  AT1G01080  AT1G01090  ...  ATMG01330  ATMG01350  \\\n",
       "0    1.575798  -0.992267   1.207291  -0.432054  ...  -0.349540  -0.864648   \n",
       "4    0.288726  -0.705424   0.951462  -0.122206  ...  -0.615190  -0.833232   \n",
       "8   -0.716710  -1.174892   0.626332  -0.159070  ...  -0.335453  -0.522868   \n",
       "12  -0.755814  -1.288625   1.566648  -0.165744  ...   0.291973  -0.864648   \n",
       "16  -0.664216  -0.948583   1.886325  -0.792811  ...  -0.377875  -0.864648   \n",
       "\n",
       "    ATMG01360  ATMG01370  ATMG01380  ATMG01390  ATMG01400  ATMG01410  \\\n",
       "0   -0.974795  -0.305604  -0.425843  -1.152897  -0.482319   0.312287   \n",
       "4   -1.024247  -0.487756  -0.598548  -1.178753  -0.482319  -0.673769   \n",
       "8   -0.895053  -0.536744  -0.554278  -1.014511  -0.482319  -0.917752   \n",
       "12  -0.695884  -0.515004  -0.667620  -0.873547   0.602385  -0.917752   \n",
       "16  -0.890843  -0.533861  -0.777886  -1.151471  -0.482319  -0.917752   \n",
       "\n",
       "    ATMG09740  ATMG09950  \n",
       "0   -0.475449  -0.613455  \n",
       "4   -0.475449  -0.613455  \n",
       "8   -0.475449  -0.613455  \n",
       "12  -0.475449   0.098647  \n",
       "16  -0.475449  -0.613455  \n",
       "\n",
       "[5 rows x 26052 columns]"
      ]
     },
     "execution_count": 4,
     "metadata": {},
     "output_type": "execute_result"
    }
   ],
   "source": [
    "X_train, Y_times, Y_circular = load_expression_data(x_train = '../data/expression_matrices/x_training.csv',\n",
    "                                                    y_train='../data/targets/target_training.csv')\n",
    "X_train.head()\n"
   ]
  },
  {
   "cell_type": "code",
   "execution_count": null,
   "id": "eab97df4-fadd-4e93-b56a-77a4a252973d",
   "metadata": {},
   "outputs": [],
   "source": []
  },
  {
   "cell_type": "markdown",
   "id": "f7fd34b1-9a4d-4f81-872e-d1b5501f0928",
   "metadata": {},
   "source": [
    "## 2. Load and define the feature space\n",
    "Use prior circadian information regarding each gene's phase and rhythmicity. \n",
    "\n",
    "Here use information analogous to what was shown in `example_prior_information.ipynb`."
   ]
  },
  {
   "cell_type": "code",
   "execution_count": 5,
   "id": "1b2d7376-a316-4c25-8863-325011e65e7d",
   "metadata": {},
   "outputs": [],
   "source": [
    "prior_info = pd.read_csv('../data/sfs_input/sfs_gene_info.csv', index_col=0)"
   ]
  },
  {
   "cell_type": "markdown",
   "id": "9a7fea26-aa87-437e-bf6c-b7d90b3e9acc",
   "metadata": {},
   "source": [
    "The following function defines the feature space for SFS. It includes:\n",
    "* Random bootstrap of genes, selecting a defined proportion at random (here proportion = 0.5)\n",
    "* Selects the top _N_ genes from each phase bin (here _N_ genes = 15 for time saving, but default is 25)\n",
    "* Selects a gene at random to intialize the feature set for selection"
   ]
  },
  {
   "cell_type": "code",
   "execution_count": 6,
   "id": "5f92d87c-965e-4aff-a31f-f3f19bbe1881",
   "metadata": {},
   "outputs": [
    {
     "name": "stdout",
     "output_type": "stream",
     "text": [
      "Feature selection will initiate with gene: AT1G20696\n"
     ]
    },
    {
     "data": {
      "text/html": [
       "<div>\n",
       "<style scoped>\n",
       "    .dataframe tbody tr th:only-of-type {\n",
       "        vertical-align: middle;\n",
       "    }\n",
       "\n",
       "    .dataframe tbody tr th {\n",
       "        vertical-align: top;\n",
       "    }\n",
       "\n",
       "    .dataframe thead th {\n",
       "        text-align: right;\n",
       "    }\n",
       "</style>\n",
       "<table border=\"1\" class=\"dataframe\">\n",
       "  <thead>\n",
       "    <tr style=\"text-align: right;\">\n",
       "      <th></th>\n",
       "      <th>phase_bin</th>\n",
       "      <th>qval</th>\n",
       "    </tr>\n",
       "    <tr>\n",
       "      <th>CycID</th>\n",
       "      <th></th>\n",
       "      <th></th>\n",
       "    </tr>\n",
       "  </thead>\n",
       "  <tbody>\n",
       "    <tr>\n",
       "      <th>AT4G08870</th>\n",
       "      <td>4.0</td>\n",
       "      <td>9.877571e-07</td>\n",
       "    </tr>\n",
       "    <tr>\n",
       "      <th>AT1G13080</th>\n",
       "      <td>4.0</td>\n",
       "      <td>1.110343e-06</td>\n",
       "    </tr>\n",
       "    <tr>\n",
       "      <th>AT2G21320</th>\n",
       "      <td>4.0</td>\n",
       "      <td>1.125028e-06</td>\n",
       "    </tr>\n",
       "    <tr>\n",
       "      <th>AT5G23010</th>\n",
       "      <td>4.0</td>\n",
       "      <td>2.023461e-06</td>\n",
       "    </tr>\n",
       "    <tr>\n",
       "      <th>AT3G61470</th>\n",
       "      <td>8.0</td>\n",
       "      <td>1.264690e-06</td>\n",
       "    </tr>\n",
       "  </tbody>\n",
       "</table>\n",
       "</div>"
      ],
      "text/plain": [
       "           phase_bin          qval\n",
       "CycID                             \n",
       "AT4G08870        4.0  9.877571e-07\n",
       "AT1G13080        4.0  1.110343e-06\n",
       "AT2G21320        4.0  1.125028e-06\n",
       "AT5G23010        4.0  2.023461e-06\n",
       "AT3G61470        8.0  1.264690e-06"
      ]
     },
     "execution_count": 6,
     "metadata": {},
     "output_type": "execute_result"
    }
   ],
   "source": [
    "balanced_features, first_gene = define_feature_space(prior_info=prior_info, x_train=X_train, bootstrap_fracion=0.5, n_genes_bin=5)\n",
    "X_train = X_train[balanced_features.index]\n",
    "balanced_features.head()"
   ]
  },
  {
   "cell_type": "markdown",
   "id": "5689c2fd-713b-4ee0-8670-d1cfd9993fb2",
   "metadata": {},
   "source": [
    "## 3. Start the SFS algorithm"
   ]
  },
  {
   "cell_type": "markdown",
   "id": "99f290c9-50e8-425a-bbaf-6a7a42722644",
   "metadata": {},
   "source": [
    "We note the optimal learning rate (default = 0.003) can vary depending on Python/Tensorflow versions. Adjust it if the error does not reduce across iterations."
   ]
  },
  {
   "cell_type": "code",
   "execution_count": 7,
   "id": "8bd109cf-0219-4f9d-be7b-80f2d3459908",
   "metadata": {},
   "outputs": [],
   "source": [
    "# initialize wrapper\n",
    "sfs_wrapper = SFS_hub(i_gene=first_gene, X_data=X_train, Y_data=Y_circular, rhythmic_scores=balanced_features, learning_rate=0.003)\n",
    "sfs_wrapper.manual_control()\n"
   ]
  },
  {
   "cell_type": "markdown",
   "id": "b158037c-0ff0-4231-887a-4e8e6c774aca",
   "metadata": {},
   "source": [
    "The SFS will run for a defualt of 100,000 iterations.\n",
    "\n",
    "As an example, we start with 6 iterations. In each iteration, a phase bin will be selected from one that is currently unrepresented in the feature set.\n",
    "\n",
    "All genes belonging to each phase bin will be tested being included in the feature set. The gene giving the minimum mean-absolute-error (MAE) across 5-fold cross-validation will be added in the current feature set."
   ]
  },
  {
   "cell_type": "code",
   "execution_count": 8,
   "id": "3cfebd31-483f-4f7b-a58f-f966b68fa5b8",
   "metadata": {},
   "outputs": [
    {
     "name": "stderr",
     "output_type": "stream",
     "text": [
      "  0%|                                                                                            | 0/4 [00:00<?, ?it/s]"
     ]
    },
    {
     "name": "stdout",
     "output_type": "stream",
     "text": [
      "1/1 [==============================] - 0s 116ms/step\n",
      "1/1 [==============================] - 0s 65ms/step\n",
      "1/1 [==============================] - 0s 65ms/step\n",
      "1/1 [==============================] - 0s 64ms/step\n",
      "WARNING:tensorflow:5 out of the last 5 calls to <function Model.make_predict_function.<locals>.predict_function at 0x000002861C9C0700> triggered tf.function retracing. Tracing is expensive and the excessive number of tracings could be due to (1) creating @tf.function repeatedly in a loop, (2) passing tensors with different shapes, (3) passing Python objects instead of tensors. For (1), please define your @tf.function outside of the loop. For (2), @tf.function has reduce_retracing=True option that can avoid unnecessary retracing. For (3), please refer to https://www.tensorflow.org/guide/function#controlling_retracing and https://www.tensorflow.org/api_docs/python/tf/function for  more details.\n",
      "1/1 [==============================] - 0s 66ms/step\n"
     ]
    },
    {
     "name": "stderr",
     "output_type": "stream",
     "text": [
      " 25%|█████████████████████                                                               | 1/4 [00:19<00:58, 19.36s/it]"
     ]
    },
    {
     "name": "stdout",
     "output_type": "stream",
     "text": [
      "+  AT4G08870 118.49983241831693 \n",
      "\n",
      "WARNING:tensorflow:6 out of the last 6 calls to <function Model.make_predict_function.<locals>.predict_function at 0x000002861906CC10> triggered tf.function retracing. Tracing is expensive and the excessive number of tracings could be due to (1) creating @tf.function repeatedly in a loop, (2) passing tensors with different shapes, (3) passing Python objects instead of tensors. For (1), please define your @tf.function outside of the loop. For (2), @tf.function has reduce_retracing=True option that can avoid unnecessary retracing. For (3), please refer to https://www.tensorflow.org/guide/function#controlling_retracing and https://www.tensorflow.org/api_docs/python/tf/function for  more details.\n",
      "1/1 [==============================] - 0s 86ms/step\n",
      "1/1 [==============================] - 0s 63ms/step\n",
      "1/1 [==============================] - 0s 64ms/step\n",
      "1/1 [==============================] - 0s 64ms/step\n",
      "1/1 [==============================] - 0s 64ms/step\n"
     ]
    },
    {
     "name": "stderr",
     "output_type": "stream",
     "text": [
      " 50%|██████████████████████████████████████████                                          | 2/4 [00:37<00:36, 18.38s/it]"
     ]
    },
    {
     "name": "stdout",
     "output_type": "stream",
     "text": [
      "+  AT1G13080 167.52163736764578 \n",
      "\n",
      "1/1 [==============================] - 0s 87ms/step\n",
      "1/1 [==============================] - 0s 65ms/step\n",
      "1/1 [==============================] - 0s 65ms/step\n",
      "1/1 [==============================] - 0s 64ms/step\n",
      "1/1 [==============================] - 0s 67ms/step\n"
     ]
    },
    {
     "name": "stderr",
     "output_type": "stream",
     "text": [
      " 75%|███████████████████████████████████████████████████████████████                     | 3/4 [00:58<00:19, 19.72s/it]"
     ]
    },
    {
     "name": "stdout",
     "output_type": "stream",
     "text": [
      "+  AT2G21320 132.91076528494037 \n",
      "\n",
      "1/1 [==============================] - 0s 91ms/step\n",
      "1/1 [==============================] - 0s 65ms/step\n",
      "1/1 [==============================] - 0s 67ms/step\n",
      "1/1 [==============================] - 0s 63ms/step\n",
      "1/1 [==============================] - 0s 64ms/step\n"
     ]
    },
    {
     "name": "stderr",
     "output_type": "stream",
     "text": [
      "100%|████████████████████████████████████████████████████████████████████████████████████| 4/4 [01:25<00:00, 21.48s/it]\n"
     ]
    },
    {
     "name": "stdout",
     "output_type": "stream",
     "text": [
      "+  AT5G23010 nan \n",
      "\n",
      "Iteration: 0\n",
      "Current phase bin tested: 4.0\n",
      "Genes:  ['AT1G20696', 'AT4G08870']\n",
      "Gene length: 2\n",
      "Current mean-absolute-error: 118.49983241831693 mins\n",
      "\n"
     ]
    },
    {
     "name": "stderr",
     "output_type": "stream",
     "text": [
      "  0%|                                                                                            | 0/4 [00:00<?, ?it/s]"
     ]
    },
    {
     "name": "stdout",
     "output_type": "stream",
     "text": [
      "1/1 [==============================] - 0s 86ms/step\n",
      "1/1 [==============================] - 0s 64ms/step\n",
      "1/1 [==============================] - 0s 64ms/step\n",
      "1/1 [==============================] - 0s 64ms/step\n",
      "1/1 [==============================] - 0s 63ms/step\n"
     ]
    },
    {
     "name": "stderr",
     "output_type": "stream",
     "text": [
      " 25%|█████████████████████                                                               | 1/4 [00:20<01:00, 20.25s/it]"
     ]
    },
    {
     "name": "stdout",
     "output_type": "stream",
     "text": [
      "+  AT2G41430 115.8678683618033 \n",
      "\n",
      "1/1 [==============================] - 0s 86ms/step\n",
      "1/1 [==============================] - 0s 65ms/step\n",
      "1/1 [==============================] - 0s 64ms/step\n",
      "1/1 [==============================] - 0s 64ms/step\n",
      "1/1 [==============================] - 0s 64ms/step\n"
     ]
    },
    {
     "name": "stderr",
     "output_type": "stream",
     "text": [
      " 50%|██████████████████████████████████████████                                          | 2/4 [00:41<00:41, 20.74s/it]"
     ]
    },
    {
     "name": "stdout",
     "output_type": "stream",
     "text": [
      "+  AT2G38120 113.99627588166648 \n",
      "\n",
      "1/1 [==============================] - 0s 86ms/step\n",
      "1/1 [==============================] - 0s 64ms/step\n",
      "1/1 [==============================] - 0s 68ms/step\n",
      "1/1 [==============================] - 0s 64ms/step\n",
      "1/1 [==============================] - 0s 65ms/step\n"
     ]
    },
    {
     "name": "stderr",
     "output_type": "stream",
     "text": [
      " 75%|███████████████████████████████████████████████████████████████                     | 3/4 [01:02<00:21, 21.01s/it]"
     ]
    },
    {
     "name": "stdout",
     "output_type": "stream",
     "text": [
      "+  AT3G07310 85.24589868533977 \n",
      "\n",
      "1/1 [==============================] - 0s 86ms/step\n",
      "1/1 [==============================] - 0s 64ms/step\n",
      "1/1 [==============================] - 0s 63ms/step\n",
      "1/1 [==============================] - 0s 64ms/step\n",
      "1/1 [==============================] - 0s 68ms/step\n"
     ]
    },
    {
     "name": "stderr",
     "output_type": "stream",
     "text": [
      "100%|████████████████████████████████████████████████████████████████████████████████████| 4/4 [01:25<00:00, 21.43s/it]\n"
     ]
    },
    {
     "name": "stdout",
     "output_type": "stream",
     "text": [
      "+  AT5G40500 84.59378902215182 \n",
      "\n",
      "Iteration: 1\n",
      "Current phase bin tested: 12.0\n",
      "Genes:  ['AT1G20696' 'AT4G08870' 'AT5G40500']\n",
      "Gene length: 3\n",
      "Current mean-absolute-error: 84.59378902215182 mins\n",
      "\n"
     ]
    },
    {
     "name": "stderr",
     "output_type": "stream",
     "text": [
      "  0%|                                                                                            | 0/4 [00:00<?, ?it/s]"
     ]
    },
    {
     "name": "stdout",
     "output_type": "stream",
     "text": [
      "1/1 [==============================] - 0s 86ms/step\n",
      "1/1 [==============================] - 0s 64ms/step\n",
      "1/1 [==============================] - 0s 68ms/step\n",
      "1/1 [==============================] - 0s 64ms/step\n",
      "1/1 [==============================] - 0s 68ms/step\n"
     ]
    },
    {
     "name": "stderr",
     "output_type": "stream",
     "text": [
      " 25%|█████████████████████                                                               | 1/4 [00:20<01:01, 20.59s/it]"
     ]
    },
    {
     "name": "stdout",
     "output_type": "stream",
     "text": [
      "+  AT3G61470 76.3134279241335 \n",
      "\n",
      "1/1 [==============================] - 0s 85ms/step\n",
      "1/1 [==============================] - 0s 64ms/step\n",
      "1/1 [==============================] - 0s 64ms/step\n",
      "1/1 [==============================] - 0s 63ms/step\n",
      "1/1 [==============================] - 0s 64ms/step\n"
     ]
    },
    {
     "name": "stderr",
     "output_type": "stream",
     "text": [
      " 50%|██████████████████████████████████████████                                          | 2/4 [00:42<00:42, 21.27s/it]"
     ]
    },
    {
     "name": "stdout",
     "output_type": "stream",
     "text": [
      "+  AT3G08920 82.08593987323182 \n",
      "\n",
      "1/1 [==============================] - 0s 87ms/step\n",
      "1/1 [==============================] - 0s 67ms/step\n",
      "1/1 [==============================] - 0s 65ms/step\n",
      "1/1 [==============================] - 0s 69ms/step\n",
      "1/1 [==============================] - 0s 66ms/step\n"
     ]
    },
    {
     "name": "stderr",
     "output_type": "stream",
     "text": [
      " 75%|███████████████████████████████████████████████████████████████                     | 3/4 [01:01<00:20, 20.13s/it]"
     ]
    },
    {
     "name": "stdout",
     "output_type": "stream",
     "text": [
      "+  AT2G18700 72.26794897120911 \n",
      "\n",
      "1/1 [==============================] - 0s 85ms/step\n",
      "1/1 [==============================] - 0s 69ms/step\n",
      "1/1 [==============================] - 0s 65ms/step\n",
      "1/1 [==============================] - 0s 64ms/step\n",
      "1/1 [==============================] - 0s 63ms/step\n"
     ]
    },
    {
     "name": "stderr",
     "output_type": "stream",
     "text": [
      "100%|████████████████████████████████████████████████████████████████████████████████████| 4/4 [01:22<00:00, 20.55s/it]\n"
     ]
    },
    {
     "name": "stdout",
     "output_type": "stream",
     "text": [
      "+  AT4G12800 74.03349423020698 \n",
      "\n",
      "Iteration: 2\n",
      "Current phase bin tested: 8.0\n",
      "Genes:  ['AT1G20696' 'AT4G08870' 'AT5G40500' 'AT2G18700']\n",
      "Gene length: 4\n",
      "Current mean-absolute-error: 72.26794897120911 mins\n",
      "\n"
     ]
    },
    {
     "name": "stderr",
     "output_type": "stream",
     "text": [
      "  0%|                                                                                            | 0/4 [00:00<?, ?it/s]"
     ]
    },
    {
     "name": "stdout",
     "output_type": "stream",
     "text": [
      "1/1 [==============================] - 0s 88ms/step\n",
      "1/1 [==============================] - 0s 63ms/step\n",
      "1/1 [==============================] - 0s 79ms/step\n",
      "1/1 [==============================] - 0s 64ms/step\n",
      "1/1 [==============================] - 0s 69ms/step\n"
     ]
    },
    {
     "name": "stderr",
     "output_type": "stream",
     "text": [
      " 25%|█████████████████████                                                               | 1/4 [00:21<01:05, 21.78s/it]"
     ]
    },
    {
     "name": "stdout",
     "output_type": "stream",
     "text": [
      "+  AT5G20360 52.61973572452158 \n",
      "\n",
      "1/1 [==============================] - 0s 90ms/step\n",
      "1/1 [==============================] - 0s 69ms/step\n",
      "1/1 [==============================] - 0s 65ms/step\n",
      "1/1 [==============================] - 0s 69ms/step\n",
      "1/1 [==============================] - 0s 64ms/step\n"
     ]
    },
    {
     "name": "stderr",
     "output_type": "stream",
     "text": [
      " 50%|██████████████████████████████████████████                                          | 2/4 [00:42<00:41, 20.98s/it]"
     ]
    },
    {
     "name": "stdout",
     "output_type": "stream",
     "text": [
      "+  AT1G64770 64.23171750439931 \n",
      "\n",
      "1/1 [==============================] - 0s 88ms/step\n",
      "1/1 [==============================] - 0s 65ms/step\n",
      "1/1 [==============================] - 0s 64ms/step\n",
      "1/1 [==============================] - 0s 68ms/step\n",
      "1/1 [==============================] - 0s 63ms/step\n"
     ]
    },
    {
     "name": "stderr",
     "output_type": "stream",
     "text": [
      " 75%|███████████████████████████████████████████████████████████████                     | 3/4 [01:00<00:19, 19.65s/it]"
     ]
    },
    {
     "name": "stdout",
     "output_type": "stream",
     "text": [
      "+  AT2G38210 87.1265288934926 \n",
      "\n",
      "1/1 [==============================] - 0s 87ms/step\n",
      "1/1 [==============================] - 0s 64ms/step\n",
      "1/1 [==============================] - 0s 67ms/step\n",
      "1/1 [==============================] - 0s 63ms/step\n",
      "1/1 [==============================] - 0s 65ms/step\n"
     ]
    },
    {
     "name": "stderr",
     "output_type": "stream",
     "text": [
      "100%|████████████████████████████████████████████████████████████████████████████████████| 4/4 [01:20<00:00, 20.16s/it]\n"
     ]
    },
    {
     "name": "stdout",
     "output_type": "stream",
     "text": [
      "+  AT4G23630 75.93978330715088 \n",
      "\n",
      "Iteration: 3\n",
      "Current phase bin tested: 20.0\n",
      "Genes:  ['AT1G20696' 'AT4G08870' 'AT5G40500' 'AT2G18700' 'AT5G20360']\n",
      "Gene length: 5\n",
      "Current mean-absolute-error: 52.61973572452158 mins\n",
      "\n"
     ]
    },
    {
     "name": "stderr",
     "output_type": "stream",
     "text": [
      "  0%|                                                                                            | 0/4 [00:00<?, ?it/s]"
     ]
    },
    {
     "name": "stdout",
     "output_type": "stream",
     "text": [
      "1/1 [==============================] - 0s 92ms/step\n",
      "1/1 [==============================] - 0s 63ms/step\n",
      "1/1 [==============================] - 0s 64ms/step\n",
      "1/1 [==============================] - 0s 64ms/step\n",
      "1/1 [==============================] - 0s 65ms/step\n"
     ]
    },
    {
     "name": "stderr",
     "output_type": "stream",
     "text": [
      " 25%|█████████████████████                                                               | 1/4 [00:21<01:03, 21.18s/it]"
     ]
    },
    {
     "name": "stdout",
     "output_type": "stream",
     "text": [
      "+  AT1G26560 52.5397181879276 \n",
      "\n",
      "1/1 [==============================] - 0s 88ms/step\n",
      "1/1 [==============================] - 0s 66ms/step\n",
      "1/1 [==============================] - 0s 66ms/step\n",
      "1/1 [==============================] - 0s 67ms/step\n",
      "1/1 [==============================] - 0s 64ms/step\n"
     ]
    },
    {
     "name": "stderr",
     "output_type": "stream",
     "text": [
      " 50%|██████████████████████████████████████████                                          | 2/4 [00:40<00:39, 19.82s/it]"
     ]
    },
    {
     "name": "stdout",
     "output_type": "stream",
     "text": [
      "+  AT3G54830 69.31121800081071 \n",
      "\n",
      "1/1 [==============================] - 0s 88ms/step\n",
      "1/1 [==============================] - 0s 64ms/step\n",
      "1/1 [==============================] - 0s 64ms/step\n",
      "1/1 [==============================] - 0s 64ms/step\n",
      "1/1 [==============================] - 0s 64ms/step\n"
     ]
    },
    {
     "name": "stderr",
     "output_type": "stream",
     "text": [
      " 75%|███████████████████████████████████████████████████████████████                     | 3/4 [01:00<00:20, 20.20s/it]"
     ]
    },
    {
     "name": "stdout",
     "output_type": "stream",
     "text": [
      "+  AT5G54110 65.65026909891382 \n",
      "\n",
      "1/1 [==============================] - 0s 85ms/step\n",
      "1/1 [==============================] - 0s 67ms/step\n",
      "1/1 [==============================] - 0s 63ms/step\n",
      "1/1 [==============================] - 0s 64ms/step\n",
      "1/1 [==============================] - 0s 63ms/step\n"
     ]
    },
    {
     "name": "stderr",
     "output_type": "stream",
     "text": [
      "100%|████████████████████████████████████████████████████████████████████████████████████| 4/4 [01:20<00:00, 20.08s/it]\n"
     ]
    },
    {
     "name": "stdout",
     "output_type": "stream",
     "text": [
      "+  AT1G64500 57.030294791458736 \n",
      "\n",
      "Iteration: 4\n",
      "Current phase bin tested: 24.0\n",
      "Genes:  ['AT1G20696' 'AT4G08870' 'AT5G40500' 'AT2G18700' 'AT5G20360' 'AT1G26560']\n",
      "Gene length: 6\n",
      "Current mean-absolute-error: 52.5397181879276 mins\n",
      "\n"
     ]
    },
    {
     "name": "stderr",
     "output_type": "stream",
     "text": [
      "  0%|                                                                                            | 0/3 [00:00<?, ?it/s]"
     ]
    },
    {
     "name": "stdout",
     "output_type": "stream",
     "text": [
      "1/1 [==============================] - 0s 86ms/step\n",
      "1/1 [==============================] - 0s 65ms/step\n",
      "1/1 [==============================] - 0s 66ms/step\n",
      "1/1 [==============================] - 0s 65ms/step\n",
      "1/1 [==============================] - 0s 64ms/step\n"
     ]
    },
    {
     "name": "stderr",
     "output_type": "stream",
     "text": [
      " 33%|████████████████████████████                                                        | 1/3 [00:21<00:43, 21.78s/it]"
     ]
    },
    {
     "name": "stdout",
     "output_type": "stream",
     "text": [
      "+  AT3G61470 54.60982481411552 \n",
      "\n",
      "1/1 [==============================] - 0s 86ms/step\n",
      "1/1 [==============================] - 0s 66ms/step\n",
      "1/1 [==============================] - 0s 63ms/step\n",
      "1/1 [==============================] - 0s 64ms/step\n",
      "1/1 [==============================] - 0s 64ms/step\n"
     ]
    },
    {
     "name": "stderr",
     "output_type": "stream",
     "text": [
      " 67%|████████████████████████████████████████████████████████                            | 2/3 [00:40<00:20, 20.19s/it]"
     ]
    },
    {
     "name": "stdout",
     "output_type": "stream",
     "text": [
      "+  AT3G08920 64.7263333320507 \n",
      "\n",
      "1/1 [==============================] - 0s 85ms/step\n",
      "1/1 [==============================] - 0s 65ms/step\n",
      "1/1 [==============================] - 0s 67ms/step\n",
      "1/1 [==============================] - 0s 67ms/step\n",
      "1/1 [==============================] - 0s 65ms/step\n"
     ]
    },
    {
     "name": "stderr",
     "output_type": "stream",
     "text": [
      "100%|████████████████████████████████████████████████████████████████████████████████████| 3/3 [00:59<00:00, 19.79s/it]"
     ]
    },
    {
     "name": "stdout",
     "output_type": "stream",
     "text": [
      "+  AT4G12800 62.737850205059786 \n",
      "\n",
      "Iteration: 5\n",
      "Current phase bin tested: 8.0\n",
      "Genes:  ['AT1G20696' 'AT4G08870' 'AT5G40500' 'AT2G18700' 'AT5G20360' 'AT1G26560'\n",
      " 'AT3G61470']\n",
      "Gene length: 7\n",
      "Current mean-absolute-error: 54.60982481411552 mins\n",
      "\n"
     ]
    },
    {
     "name": "stderr",
     "output_type": "stream",
     "text": [
      "\n"
     ]
    }
   ],
   "source": [
    "iteration_record = {}\n",
    "error_record = {}\n",
    "\n",
    "gene_length = 0\n",
    "for n in range(0, 6):\n",
    "    gene_iteration, error_iteration = sfs_wrapper.manual_run()\n",
    "    gene_length = len(gene_iteration)\n",
    "    print('Iteration: {}'.format(n))\n",
    "    print('Current phase bin tested: {}'.format(balanced_features['phase_bin'].loc[gene_iteration[-1]]))\n",
    "    print('Genes: ', gene_iteration)\n",
    "    print('Gene length: {}'.format(gene_length))\n",
    "    print('Current mean-absolute-error: {} mins\\n'.format(error_iteration))\n",
    "\n",
    "    iteration_record[n] = gene_iteration\n",
    "    error_record[n] = error_iteration"
   ]
  },
  {
   "cell_type": "markdown",
   "id": "ae0f0779-0394-4596-8d77-31fad4774fca",
   "metadata": {},
   "source": [
    "When the _N_ gene features reaches 8 or more, a reverse selection is applied. Every gene, except for the previous one added, is tested being removed. If removing these genes gives better performance, they will be sequentially dropped up to a minimum of _N_ genes = 3"
   ]
  },
  {
   "cell_type": "code",
   "execution_count": 9,
   "id": "94d15fd9-9164-4c11-bdbb-7116eff07507",
   "metadata": {},
   "outputs": [
    {
     "name": "stderr",
     "output_type": "stream",
     "text": [
      "  0%|                                                                                            | 0/3 [00:00<?, ?it/s]"
     ]
    },
    {
     "name": "stdout",
     "output_type": "stream",
     "text": [
      "1/1 [==============================] - 0s 86ms/step\n",
      "1/1 [==============================] - 0s 63ms/step\n",
      "1/1 [==============================] - 0s 64ms/step\n",
      "1/1 [==============================] - 0s 64ms/step\n",
      "1/1 [==============================] - 0s 70ms/step\n"
     ]
    },
    {
     "name": "stderr",
     "output_type": "stream",
     "text": [
      " 33%|████████████████████████████                                                        | 1/3 [00:19<00:39, 19.54s/it]"
     ]
    },
    {
     "name": "stdout",
     "output_type": "stream",
     "text": [
      "+  AT2G41430 44.28182861739477 \n",
      "\n",
      "1/1 [==============================] - 0s 92ms/step\n",
      "1/1 [==============================] - 0s 69ms/step\n",
      "1/1 [==============================] - 0s 63ms/step\n",
      "1/1 [==============================] - 0s 67ms/step\n",
      "1/1 [==============================] - 0s 63ms/step\n"
     ]
    },
    {
     "name": "stderr",
     "output_type": "stream",
     "text": [
      " 67%|████████████████████████████████████████████████████████                            | 2/3 [00:39<00:19, 19.82s/it]"
     ]
    },
    {
     "name": "stdout",
     "output_type": "stream",
     "text": [
      "+  AT2G38120 56.47600777870472 \n",
      "\n",
      "1/1 [==============================] - 0s 89ms/step\n",
      "1/1 [==============================] - 0s 67ms/step\n",
      "1/1 [==============================] - 0s 65ms/step\n",
      "1/1 [==============================] - 0s 66ms/step\n",
      "1/1 [==============================] - 0s 67ms/step\n"
     ]
    },
    {
     "name": "stderr",
     "output_type": "stream",
     "text": [
      "100%|████████████████████████████████████████████████████████████████████████████████████| 3/3 [00:58<00:00, 19.37s/it]\n"
     ]
    },
    {
     "name": "stdout",
     "output_type": "stream",
     "text": [
      "+  AT3G07310 51.87219646633901 \n",
      "\n",
      "Iteration: 6\n",
      "Current phase bin tested: 12.0\n",
      "Genes:  ['AT1G20696' 'AT4G08870' 'AT5G40500' 'AT2G18700' 'AT5G20360' 'AT1G26560'\n",
      " 'AT3G61470' 'AT2G41430']\n",
      "Gene length: 8\n",
      "Current mean-absolute-error: 44.28182861739477 mins\n",
      "\n"
     ]
    },
    {
     "name": "stderr",
     "output_type": "stream",
     "text": [
      "  0%|                                                                                            | 0/3 [00:00<?, ?it/s]"
     ]
    },
    {
     "name": "stdout",
     "output_type": "stream",
     "text": [
      "1/1 [==============================] - 0s 89ms/step\n",
      "1/1 [==============================] - 0s 66ms/step\n",
      "1/1 [==============================] - 0s 68ms/step\n",
      "1/1 [==============================] - 0s 66ms/step\n",
      "1/1 [==============================] - 0s 67ms/step\n"
     ]
    },
    {
     "name": "stderr",
     "output_type": "stream",
     "text": [
      " 33%|████████████████████████████                                                        | 1/3 [00:20<00:41, 20.72s/it]"
     ]
    },
    {
     "name": "stdout",
     "output_type": "stream",
     "text": [
      "+  AT3G54830 51.09348790352232 \n",
      "\n",
      "1/1 [==============================] - 0s 87ms/step\n",
      "1/1 [==============================] - 0s 65ms/step\n",
      "1/1 [==============================] - 0s 65ms/step\n",
      "1/1 [==============================] - 0s 65ms/step\n",
      "1/1 [==============================] - 0s 66ms/step\n"
     ]
    },
    {
     "name": "stderr",
     "output_type": "stream",
     "text": [
      " 67%|████████████████████████████████████████████████████████                            | 2/3 [00:43<00:21, 21.69s/it]"
     ]
    },
    {
     "name": "stdout",
     "output_type": "stream",
     "text": [
      "+  AT5G54110 45.2500803690114 \n",
      "\n",
      "1/1 [==============================] - 0s 87ms/step\n",
      "1/1 [==============================] - 0s 65ms/step\n",
      "1/1 [==============================] - 0s 64ms/step\n",
      "1/1 [==============================] - 0s 65ms/step\n",
      "1/1 [==============================] - 0s 67ms/step\n"
     ]
    },
    {
     "name": "stderr",
     "output_type": "stream",
     "text": [
      "100%|████████████████████████████████████████████████████████████████████████████████████| 3/3 [01:02<00:00, 20.68s/it]"
     ]
    },
    {
     "name": "stdout",
     "output_type": "stream",
     "text": [
      "+  AT1G64500 47.54732846659614 \n",
      "\n"
     ]
    },
    {
     "name": "stderr",
     "output_type": "stream",
     "text": [
      "\n"
     ]
    },
    {
     "name": "stdout",
     "output_type": "stream",
     "text": [
      "1/1 [==============================] - 0s 93ms/step\n",
      "1/1 [==============================] - 0s 63ms/step\n",
      "1/1 [==============================] - 0s 63ms/step\n",
      "1/1 [==============================] - 0s 64ms/step\n",
      "1/1 [==============================] - 0s 64ms/step\n",
      "1/1 [==============================] - 0s 86ms/step\n",
      "1/1 [==============================] - 0s 65ms/step\n",
      "1/1 [==============================] - 0s 65ms/step\n",
      "1/1 [==============================] - 0s 64ms/step\n",
      "1/1 [==============================] - 0s 64ms/step\n",
      "1/1 [==============================] - 0s 86ms/step\n",
      "1/1 [==============================] - 0s 64ms/step\n",
      "1/1 [==============================] - 0s 64ms/step\n",
      "1/1 [==============================] - 0s 64ms/step\n",
      "1/1 [==============================] - 0s 70ms/step\n",
      "1/1 [==============================] - 0s 89ms/step\n",
      "1/1 [==============================] - 0s 68ms/step\n",
      "1/1 [==============================] - 0s 66ms/step\n",
      "1/1 [==============================] - 0s 70ms/step\n",
      "1/1 [==============================] - 0s 65ms/step\n",
      "1/1 [==============================] - 0s 87ms/step\n",
      "1/1 [==============================] - 0s 64ms/step\n",
      "1/1 [==============================] - 0s 64ms/step\n",
      "1/1 [==============================] - 0s 221ms/step\n",
      "1/1 [==============================] - 0s 66ms/step\n",
      "1/1 [==============================] - 0s 85ms/step\n",
      "1/1 [==============================] - 0s 66ms/step\n",
      "1/1 [==============================] - 0s 65ms/step\n",
      "1/1 [==============================] - 0s 64ms/step\n",
      "1/1 [==============================] - 0s 66ms/step\n",
      "1/1 [==============================] - 0s 85ms/step\n",
      "1/1 [==============================] - 0s 65ms/step\n",
      "1/1 [==============================] - 0s 65ms/step\n",
      "1/1 [==============================] - 0s 68ms/step\n",
      "1/1 [==============================] - 0s 68ms/step\n",
      "1/1 [==============================] - 0s 91ms/step\n",
      "1/1 [==============================] - 0s 66ms/step\n",
      "1/1 [==============================] - 0s 66ms/step\n",
      "1/1 [==============================] - 0s 69ms/step\n",
      "1/1 [==============================] - 0s 63ms/step\n",
      "Iteration: 7\n",
      "Current phase bin tested: 24.0\n",
      "Genes:  ['AT1G20696' 'AT4G08870' 'AT5G40500' 'AT2G18700' 'AT5G20360' 'AT1G26560'\n",
      " 'AT3G61470' 'AT2G41430' 'AT5G54110']\n",
      "Gene length: 9\n",
      "Current mean-absolute-error: 45.2500803690114 mins\n",
      "\n"
     ]
    },
    {
     "name": "stderr",
     "output_type": "stream",
     "text": [
      "  0%|                                                                                            | 0/3 [00:00<?, ?it/s]"
     ]
    },
    {
     "name": "stdout",
     "output_type": "stream",
     "text": [
      "1/1 [==============================] - 0s 94ms/step\n",
      "1/1 [==============================] - 0s 66ms/step\n",
      "1/1 [==============================] - 0s 218ms/step\n",
      "1/1 [==============================] - 0s 65ms/step\n",
      "1/1 [==============================] - 0s 66ms/step\n"
     ]
    },
    {
     "name": "stderr",
     "output_type": "stream",
     "text": [
      " 33%|████████████████████████████                                                        | 1/3 [00:20<00:40, 20.11s/it]"
     ]
    },
    {
     "name": "stdout",
     "output_type": "stream",
     "text": [
      "+  AT1G13080 48.19232824281908 \n",
      "\n",
      "1/1 [==============================] - 0s 86ms/step\n",
      "1/1 [==============================] - 0s 68ms/step\n",
      "1/1 [==============================] - 0s 70ms/step\n",
      "1/1 [==============================] - 0s 69ms/step\n",
      "1/1 [==============================] - 0s 68ms/step\n"
     ]
    },
    {
     "name": "stderr",
     "output_type": "stream",
     "text": [
      " 67%|████████████████████████████████████████████████████████                            | 2/3 [00:39<00:19, 19.58s/it]"
     ]
    },
    {
     "name": "stdout",
     "output_type": "stream",
     "text": [
      "+  AT2G21320 39.574542857421925 \n",
      "\n",
      "1/1 [==============================] - 0s 89ms/step\n",
      "1/1 [==============================] - 0s 68ms/step\n",
      "1/1 [==============================] - 0s 69ms/step\n",
      "1/1 [==============================] - 0s 69ms/step\n",
      "1/1 [==============================] - 0s 68ms/step\n"
     ]
    },
    {
     "name": "stderr",
     "output_type": "stream",
     "text": [
      "100%|████████████████████████████████████████████████████████████████████████████████████| 3/3 [00:58<00:00, 19.50s/it]"
     ]
    },
    {
     "name": "stdout",
     "output_type": "stream",
     "text": [
      "+  AT5G23010 58.145254621245805 \n",
      "\n"
     ]
    },
    {
     "name": "stderr",
     "output_type": "stream",
     "text": [
      "\n"
     ]
    },
    {
     "name": "stdout",
     "output_type": "stream",
     "text": [
      "1/1 [==============================] - 0s 86ms/step\n",
      "1/1 [==============================] - 0s 70ms/step\n",
      "1/1 [==============================] - 0s 70ms/step\n",
      "1/1 [==============================] - 0s 68ms/step\n",
      "1/1 [==============================] - 0s 67ms/step\n",
      "1/1 [==============================] - 0s 87ms/step\n",
      "1/1 [==============================] - 0s 69ms/step\n",
      "1/1 [==============================] - 0s 67ms/step\n",
      "1/1 [==============================] - 0s 66ms/step\n",
      "1/1 [==============================] - 0s 65ms/step\n",
      "1/1 [==============================] - 0s 90ms/step\n",
      "1/1 [==============================] - 0s 68ms/step\n",
      "1/1 [==============================] - 0s 70ms/step\n",
      "1/1 [==============================] - 0s 62ms/step\n",
      "1/1 [==============================] - 0s 68ms/step\n",
      "1/1 [==============================] - 0s 94ms/step\n",
      "1/1 [==============================] - 0s 62ms/step\n",
      "1/1 [==============================] - 0s 64ms/step\n",
      "1/1 [==============================] - 0s 68ms/step\n",
      "1/1 [==============================] - 0s 70ms/step\n",
      "1/1 [==============================] - 0s 91ms/step\n",
      "1/1 [==============================] - 0s 65ms/step\n",
      "1/1 [==============================] - 0s 67ms/step\n",
      "1/1 [==============================] - 0s 70ms/step\n",
      "1/1 [==============================] - 0s 67ms/step\n",
      "1/1 [==============================] - 0s 87ms/step\n",
      "1/1 [==============================] - 0s 69ms/step\n",
      "1/1 [==============================] - 0s 67ms/step\n",
      "1/1 [==============================] - 0s 70ms/step\n",
      "1/1 [==============================] - 0s 68ms/step\n",
      "1/1 [==============================] - 0s 89ms/step\n",
      "1/1 [==============================] - 0s 70ms/step\n",
      "1/1 [==============================] - 0s 62ms/step\n",
      "1/1 [==============================] - 0s 67ms/step\n",
      "1/1 [==============================] - 0s 64ms/step\n",
      "1/1 [==============================] - 0s 85ms/step\n",
      "1/1 [==============================] - 0s 64ms/step\n",
      "1/1 [==============================] - 0s 64ms/step\n",
      "1/1 [==============================] - 0s 64ms/step\n",
      "1/1 [==============================] - 0s 64ms/step\n",
      "1/1 [==============================] - 0s 87ms/step\n",
      "1/1 [==============================] - 0s 64ms/step\n",
      "1/1 [==============================] - 0s 64ms/step\n",
      "1/1 [==============================] - 0s 64ms/step\n",
      "1/1 [==============================] - 0s 64ms/step\n",
      "1/1 [==============================] - 0s 86ms/step\n",
      "1/1 [==============================] - 0s 65ms/step\n",
      "1/1 [==============================] - 0s 64ms/step\n",
      "1/1 [==============================] - 0s 64ms/step\n",
      "1/1 [==============================] - 0s 65ms/step\n",
      "Iteration: 8\n",
      "Current phase bin tested: 4.0\n",
      "Genes:  ['AT1G20696' 'AT4G08870' 'AT5G40500' 'AT2G18700' 'AT5G20360' 'AT1G26560'\n",
      " 'AT3G61470' 'AT2G41430' 'AT2G21320']\n",
      "Gene length: 9\n",
      "Current mean-absolute-error: [37.879937743757814] mins\n",
      "\n"
     ]
    },
    {
     "name": "stderr",
     "output_type": "stream",
     "text": [
      "  0%|                                                                                            | 0/3 [00:00<?, ?it/s]"
     ]
    },
    {
     "name": "stdout",
     "output_type": "stream",
     "text": [
      "1/1 [==============================] - 0s 87ms/step\n",
      "1/1 [==============================] - 0s 51ms/step\n",
      "1/1 [==============================] - 0s 64ms/step\n",
      "1/1 [==============================] - 0s 68ms/step\n",
      "1/1 [==============================] - 0s 67ms/step\n"
     ]
    },
    {
     "name": "stderr",
     "output_type": "stream",
     "text": [
      " 33%|████████████████████████████                                                        | 1/3 [00:18<00:36, 18.23s/it]"
     ]
    },
    {
     "name": "stdout",
     "output_type": "stream",
     "text": [
      "+  AT1G64770 33.17468907989383 \n",
      "\n",
      "1/1 [==============================] - 0s 93ms/step\n",
      "1/1 [==============================] - 0s 64ms/step\n",
      "1/1 [==============================] - 0s 64ms/step\n",
      "1/1 [==============================] - 0s 64ms/step\n",
      "1/1 [==============================] - 0s 65ms/step\n"
     ]
    },
    {
     "name": "stderr",
     "output_type": "stream",
     "text": [
      " 67%|████████████████████████████████████████████████████████                            | 2/3 [00:39<00:19, 19.81s/it]"
     ]
    },
    {
     "name": "stdout",
     "output_type": "stream",
     "text": [
      "+  AT2G38210 48.394202057094006 \n",
      "\n",
      "1/1 [==============================] - 0s 89ms/step\n",
      "1/1 [==============================] - 0s 76ms/step\n",
      "1/1 [==============================] - 0s 63ms/step\n",
      "1/1 [==============================] - 0s 67ms/step\n",
      "1/1 [==============================] - 0s 72ms/step\n"
     ]
    },
    {
     "name": "stderr",
     "output_type": "stream",
     "text": [
      "100%|████████████████████████████████████████████████████████████████████████████████████| 3/3 [01:01<00:00, 20.62s/it]"
     ]
    },
    {
     "name": "stdout",
     "output_type": "stream",
     "text": [
      "+  AT4G23630 46.56132645381211 \n",
      "\n"
     ]
    },
    {
     "name": "stderr",
     "output_type": "stream",
     "text": [
      "\n"
     ]
    },
    {
     "name": "stdout",
     "output_type": "stream",
     "text": [
      "1/1 [==============================] - 0s 88ms/step\n",
      "1/1 [==============================] - 0s 65ms/step\n",
      "1/1 [==============================] - 0s 64ms/step\n",
      "1/1 [==============================] - 0s 83ms/step\n",
      "1/1 [==============================] - 0s 63ms/step\n",
      "1/1 [==============================] - 0s 94ms/step\n",
      "1/1 [==============================] - 0s 66ms/step\n",
      "1/1 [==============================] - 0s 71ms/step\n",
      "1/1 [==============================] - 0s 70ms/step\n",
      "1/1 [==============================] - 0s 64ms/step\n",
      "1/1 [==============================] - 0s 87ms/step\n",
      "1/1 [==============================] - 0s 68ms/step\n",
      "1/1 [==============================] - 0s 67ms/step\n",
      "1/1 [==============================] - 0s 69ms/step\n",
      "1/1 [==============================] - 0s 65ms/step\n",
      "1/1 [==============================] - 0s 83ms/step\n",
      "1/1 [==============================] - 0s 70ms/step\n",
      "1/1 [==============================] - 0s 66ms/step\n",
      "1/1 [==============================] - 0s 64ms/step\n",
      "1/1 [==============================] - 0s 62ms/step\n",
      "1/1 [==============================] - 0s 91ms/step\n",
      "1/1 [==============================] - 0s 66ms/step\n",
      "1/1 [==============================] - 0s 65ms/step\n",
      "1/1 [==============================] - 0s 66ms/step\n",
      "1/1 [==============================] - 0s 64ms/step\n",
      "1/1 [==============================] - 0s 84ms/step\n",
      "1/1 [==============================] - 0s 65ms/step\n",
      "1/1 [==============================] - 0s 66ms/step\n",
      "1/1 [==============================] - 0s 65ms/step\n",
      "1/1 [==============================] - 0s 66ms/step\n",
      "1/1 [==============================] - 0s 86ms/step\n",
      "1/1 [==============================] - 0s 64ms/step\n",
      "1/1 [==============================] - 0s 65ms/step\n",
      "1/1 [==============================] - 0s 67ms/step\n",
      "1/1 [==============================] - 0s 64ms/step\n",
      "1/1 [==============================] - 0s 89ms/step\n",
      "1/1 [==============================] - 0s 66ms/step\n",
      "1/1 [==============================] - 0s 65ms/step\n",
      "1/1 [==============================] - 0s 66ms/step\n",
      "1/1 [==============================] - 0s 68ms/step\n",
      "1/1 [==============================] - 0s 101ms/step\n",
      "1/1 [==============================] - 0s 66ms/step\n",
      "1/1 [==============================] - 0s 65ms/step\n",
      "1/1 [==============================] - 0s 70ms/step\n",
      "1/1 [==============================] - 0s 68ms/step\n",
      "Iteration: 9\n",
      "Current phase bin tested: 20.0\n",
      "Genes:  ['AT1G20696' 'AT4G08870' 'AT5G40500' 'AT2G18700' 'AT5G20360' 'AT1G26560'\n",
      " 'AT3G61470' 'AT2G41430' 'AT2G21320' 'AT1G64770']\n",
      "Gene length: 10\n",
      "Current mean-absolute-error: 33.17468907989383 mins\n",
      "\n"
     ]
    }
   ],
   "source": [
    "for n in range(6, 10):\n",
    "    gene_iteration, error_iteration = sfs_wrapper.manual_run()\n",
    "    gene_length = len(gene_iteration)\n",
    "\n",
    "    if gene_length > 7:\n",
    "        gene_iteration, error_iteration = sfs_wrapper.manual_reverse()\n",
    "        gene_length = len(gene_iteration)\n",
    "\n",
    "    print('Iteration: {}'.format(n))\n",
    "    print('Current phase bin tested: {}'.format(balanced_features['phase_bin'].loc[gene_iteration[-1]]))\n",
    "    print('Genes: ', gene_iteration)\n",
    "    print('Gene length: {}'.format(gene_length))\n",
    "    print('Current mean-absolute-error: {} mins\\n'.format(error_iteration))\n",
    "\n",
    "    iteration_record[n] = gene_iteration\n",
    "    error_record[n] = error_iteration    \n",
    "        "
   ]
  },
  {
   "cell_type": "markdown",
   "id": "2f9e52e5-e839-408d-88b8-4c720ac4099b",
   "metadata": {},
   "source": [
    "In just 10 iterations using 30 genes, we have found a set giving the optimal MAE across 5-fold cross-validation"
   ]
  },
  {
   "cell_type": "code",
   "execution_count": 41,
   "id": "95e88b18-04d5-4055-8aab-4a0683a73651",
   "metadata": {},
   "outputs": [
    {
     "name": "stdout",
     "output_type": "stream",
     "text": [
      "Top genes:  ['AT1G20696' 'AT4G08870' 'AT5G40500' 'AT2G18700' 'AT5G20360' 'AT1G26560'\n",
      " 'AT3G61470' 'AT2G41430' 'AT2G21320' 'AT1G64770']\n"
     ]
    },
    {
     "data": {
      "image/png": "[encoded data removed]",
      "text/plain": [
       "<Figure size 640x480 with 1 Axes>"
      ]
     },
     "metadata": {},
     "output_type": "display_data"
    }
   ],
   "source": [
    "iterations = list(error_record.keys())\n",
    "errors = list(error_record.values())\n",
    "\n",
    "# issue of errors being reported as a list\n",
    "new_errors = []\n",
    "for i in errors:\n",
    "    if type(i) == list:\n",
    "        new_errors.append(i[0])\n",
    "    else:\n",
    "        new_errors.append(i)\n",
    "\n",
    "\n",
    "new_errors\n",
    "plt.plot(iterations, new_errors)\n",
    "plt.scatter(iterations[-1], new_errors[-1], c='r')\n",
    "plt.xlabel('N iterations')\n",
    "plt.ylabel('Mean-absolute-error (mins)')\n",
    "# here, the top genes were at the final iteration (9)\n",
    "print('Top genes: ', list(iteration_record.values())[9])"
   ]
  }
 ],
 "metadata": {
  "kernelspec": {
   "display_name": "Python 3 (ipykernel)",
   "language": "python",
   "name": "python3"
  },
  "language_info": {
   "codemirror_mode": {
    "name": "ipython",
    "version": 3
   },
   "file_extension": ".py",
   "mimetype": "text/x-python",
   "name": "python",
   "nbconvert_exporter": "python",
   "pygments_lexer": "ipython3",
   "version": "3.9.5"
  }
 },
 "nbformat": 4,
 "nbformat_minor": 5
}
